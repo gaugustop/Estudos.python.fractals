{
 "cells": [
  {
   "cell_type": "code",
   "execution_count": 1,
   "metadata": {
    "ExecuteTime": {
     "end_time": "2020-04-13T19:26:03.358504Z",
     "start_time": "2020-04-13T19:26:03.229964Z"
    }
   },
   "outputs": [],
   "source": [
    "import tkinter as tk\n",
    "from tkinter import *\n",
    "import random"
   ]
  },
  {
   "cell_type": "code",
   "execution_count": null,
   "metadata": {
    "ExecuteTime": {
     "start_time": "2020-04-13T13:36:09.157Z"
    }
   },
   "outputs": [],
   "source": [
    "#Feigenbaum plot\n",
    "\n",
    "w = 800 # width of the canvas\n",
    "win = Canvas(Tk(),height=w,width=w)\n",
    "win.pack()\n",
    "\n",
    "def f(a,x):    \n",
    "    return a * x * (1-x)\n",
    "\n",
    "minA = 2\n",
    "maxA = 4.0\n",
    "a = minA\n",
    "maxIts = 400\n",
    "\n",
    "while a <= maxA:\n",
    "    x = random.random()\n",
    "    minY,maxY = 0.0, f(a,0.5)\n",
    "    plotX=(a-minA)*w/(maxA-minA)\n",
    "    for numit in range(maxIts):\n",
    "        if numit > maxIts/10:\n",
    "            win.create_line(plotX,w-w*x,plotX+1,w-w*x+1)\n",
    "        x = f(a,x)\n",
    "    a += (maxA-minA)/w\n",
    "    \n",
    "root.mainloop()"
   ]
  },
  {
   "cell_type": "code",
   "execution_count": 18,
   "metadata": {
    "ExecuteTime": {
     "end_time": "2020-04-13T19:57:49.316656Z",
     "start_time": "2020-04-13T19:55:37.570538Z"
    }
   },
   "outputs": [],
   "source": [
    "root=Tk()\n",
    "\n",
    "w = 1500\n",
    "h = 650\n",
    "win = Canvas(root,height=h,width=w,background = 'white')\n",
    "win.grid(row=0,columnspan=2)\n",
    "\n",
    "def f(a,x):\n",
    "    return a * x * (1-x)\n",
    "\n",
    "\n",
    "Label(root,text='aMin=',font=('Arial',16)).grid(row=1)\n",
    "minA_Input=StringVar()\n",
    "e1=Entry(root,textvariable=minA_Input)\n",
    "e1.grid(row=1,column=1)\n",
    "minA_Input.set(0)\n",
    "\n",
    "Label(root,text='aMax=',font=('Arial',16)).grid(row=2)\n",
    "maxA_Input=StringVar()\n",
    "e2=Entry(root,textvariable=maxA_Input)\n",
    "e2.grid(row=2,column=1)\n",
    "maxA_Input.set(4)\n",
    "\n",
    "Label(root,text='Iterations=',font=('Arial',16)).grid(row=3)\n",
    "iter_Input=StringVar()\n",
    "e3=Entry(root,textvariable=iter_Input)\n",
    "e3.grid(row=3,column=1)\n",
    "iter_Input.set(100)\n",
    "\n",
    "def _draw():\n",
    "    win.delete('all')\n",
    "    minA=float(minA_Input.get())\n",
    "    maxA=float(maxA_Input.get())\n",
    "    maxIts =int(iter_Input.get())\n",
    "\n",
    "    a=minA\n",
    "\n",
    "    while a <= maxA:\n",
    "        x = random.random()#random number between 0 and 1\n",
    "        plotX = (a-minA)*w/(maxA-minA)\n",
    "        for numit in range(maxIts):\n",
    "            if numit > 0.5 * maxIts or numit > 100:\n",
    "                win.create_line(plotX,h-h*x,plotX+1,h-h*x,fill = 'green')\n",
    "            x = f(a,x)    \n",
    "        a += (maxA-minA)/w\n",
    "\n",
    "\n",
    "\n",
    "btn = Button(root,text='Draw',command=_draw,font=('Arial',16))\n",
    "btn.grid(row=4)\n",
    "\n",
    "\n",
    "if __name__ == '__main__':\n",
    "    root.mainloop()\n",
    "\n",
    "    \n",
    "    "
   ]
  }
 ],
 "metadata": {
  "kernelspec": {
   "display_name": "Python 3",
   "language": "python",
   "name": "python3"
  },
  "language_info": {
   "codemirror_mode": {
    "name": "ipython",
    "version": 3
   },
   "file_extension": ".py",
   "mimetype": "text/x-python",
   "name": "python",
   "nbconvert_exporter": "python",
   "pygments_lexer": "ipython3",
   "version": "3.7.4"
  },
  "latex_envs": {
   "LaTeX_envs_menu_present": true,
   "autoclose": false,
   "autocomplete": true,
   "bibliofile": "biblio.bib",
   "cite_by": "apalike",
   "current_citInitial": 1,
   "eqLabelWithNumbers": true,
   "eqNumInitial": 1,
   "hotkeys": {
    "equation": "Ctrl-E",
    "itemize": "Ctrl-I"
   },
   "labels_anchors": false,
   "latex_user_defs": false,
   "report_style_numbering": false,
   "user_envs_cfg": false
  },
  "toc": {
   "base_numbering": 1,
   "nav_menu": {},
   "number_sections": true,
   "sideBar": true,
   "skip_h1_title": false,
   "title_cell": "Table of Contents",
   "title_sidebar": "Contents",
   "toc_cell": false,
   "toc_position": {},
   "toc_section_display": true,
   "toc_window_display": false
  }
 },
 "nbformat": 4,
 "nbformat_minor": 2
}
