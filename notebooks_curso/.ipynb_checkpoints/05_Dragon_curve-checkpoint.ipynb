{
 "cells": [
  {
   "cell_type": "code",
   "execution_count": 1,
   "metadata": {},
   "outputs": [],
   "source": [
    "import turtle"
   ]
  },
  {
   "cell_type": "code",
   "execution_count": 2,
   "metadata": {},
   "outputs": [
    {
     "name": "stdout",
     "output_type": "stream",
     "text": [
      "Enter the number of generations: 5\n"
     ]
    }
   ],
   "source": [
    "iterations = input(\"Enter the number of generations: \") #type in a string\n",
    "iterations = int(iterations) #now it's an integer\n",
    "startLength=100 #Length of the generation 0 line\n",
    "\n",
    "#pick the pen up and move cursor to a good starting point\n",
    "turtle.up()\n",
    "turtle.setpos(-startLength*3/2,0)\n",
    "turtle.speed(0)\n",
    "\n",
    "#Axiom\n",
    "Dragon = \"F\" \n",
    "\n",
    "#make the L-System we want to process\n",
    "for i in range(iterations):\n",
    "    Dragon = Dragon.replace(\"F\",\"FLFRFRFFLFLFRF\")\n",
    "\n",
    "turtle.down() #pen down\n",
    "turtle.color('red','black') #draw line in red, fill black\n",
    "turtle.begin_fill() #set the fill setting\n",
    "\n",
    "for move in Dragon: #another way to loop through all the characters in a string\n",
    "    if move == \"F\":\n",
    "        turtle.forward(startLength / (4 ** (iterations - 1)))\n",
    "    elif move == \"L\":\n",
    "        turtle.left(90)\n",
    "    elif move == \"R\":\n",
    "        turtle.right(90)\n",
    "\n",
    "turtle.exitonclick()\n",
    "\n",
    "#turtle.end_fill() #fill any enclosed areas"
   ]
  },
  {
   "cell_type": "code",
   "execution_count": 25,
   "metadata": {},
   "outputs": [],
   "source": [
    "def make_fractal(length,langle,rangle,iterations,axiom,target,replace,target2,replace2):\n",
    "    state = axiom\n",
    "    turtle.speed(0)\n",
    "\n",
    "    #make the L-System we want to process\n",
    "    for i in range(iterations):\n",
    "        nextState=''\n",
    "        for character in state:\n",
    "            if character == target:\n",
    "                nextState += replace\n",
    "            elif character == target2:\n",
    "                nextState += replace2\n",
    "            else:\n",
    "                nextState += character\n",
    "        state = nextState\n",
    "        \n",
    "    turtle.down() #pen down\n",
    "    turtle.bgcolor(\"black\")\n",
    "    turtle.color('pink','white') #draw line in red, fill black\n",
    "    turtle.begin_fill() #set the fill setting\n",
    "\n",
    "    for move in state: #another way to loop through all the characters in a string\n",
    "        if move == \"F\":\n",
    "            turtle.forward(length)\n",
    "        elif move == \"L\":\n",
    "            turtle.left(langle)\n",
    "            #turtle.color('blue')\n",
    "        elif move == \"R\":\n",
    "            turtle.right(rangle)\n",
    "            #turtle.color('pink')"
   ]
  },
  {
   "cell_type": "code",
   "execution_count": 23,
   "metadata": {},
   "outputs": [
    {
     "name": "stdout",
     "output_type": "stream",
     "text": [
      "Enter the number of generations: 15\n",
      "Enter the forward movement length: 3\n"
     ]
    },
    {
     "ename": "Terminator",
     "evalue": "",
     "output_type": "error",
     "traceback": [
      "\u001b[1;31m---------------------------------------------------------------------------\u001b[0m",
      "\u001b[1;31mTerminator\u001b[0m                                Traceback (most recent call last)",
      "\u001b[1;32m<ipython-input-23-4a914615745c>\u001b[0m in \u001b[0;36m<module>\u001b[1;34m()\u001b[0m\n\u001b[0;32m      4\u001b[0m \u001b[1;33m\u001b[0m\u001b[0m\n\u001b[0;32m      5\u001b[0m     \u001b[1;31m#JP curve drawing\u001b[0m\u001b[1;33m\u001b[0m\u001b[1;33m\u001b[0m\u001b[0m\n\u001b[1;32m----> 6\u001b[1;33m     \u001b[0mmake_fractal\u001b[0m\u001b[1;33m(\u001b[0m\u001b[0mmyLen\u001b[0m\u001b[1;33m,\u001b[0m\u001b[1;36m100\u001b[0m\u001b[1;33m,\u001b[0m\u001b[1;36m80\u001b[0m\u001b[1;33m,\u001b[0m\u001b[0miterations\u001b[0m\u001b[1;33m,\u001b[0m\u001b[1;34m'FX'\u001b[0m\u001b[1;33m,\u001b[0m\u001b[1;34m'X'\u001b[0m\u001b[1;33m,\u001b[0m\u001b[1;34m'XRYFR'\u001b[0m\u001b[1;33m,\u001b[0m\u001b[1;34m'Y'\u001b[0m\u001b[1;33m,\u001b[0m\u001b[1;34m'LFXLY'\u001b[0m\u001b[1;33m)\u001b[0m\u001b[1;33m\u001b[0m\u001b[0m\n\u001b[0m\u001b[0;32m      7\u001b[0m \u001b[1;33m\u001b[0m\u001b[0m\n\u001b[0;32m      8\u001b[0m \u001b[0mturtle\u001b[0m\u001b[1;33m.\u001b[0m\u001b[0mexitonclick\u001b[0m\u001b[1;33m(\u001b[0m\u001b[1;33m)\u001b[0m\u001b[1;33m\u001b[0m\u001b[0m\n",
      "\u001b[1;32m<ipython-input-19-452cbe3643fb>\u001b[0m in \u001b[0;36mmake_fractal\u001b[1;34m(length, langle, rangle, iterations, axiom, target, replace, target2, replace2)\u001b[0m\n\u001b[0;32m     24\u001b[0m             \u001b[0mturtle\u001b[0m\u001b[1;33m.\u001b[0m\u001b[0mforward\u001b[0m\u001b[1;33m(\u001b[0m\u001b[0mlength\u001b[0m\u001b[1;33m)\u001b[0m\u001b[1;33m\u001b[0m\u001b[0m\n\u001b[0;32m     25\u001b[0m         \u001b[1;32melif\u001b[0m \u001b[0mmove\u001b[0m \u001b[1;33m==\u001b[0m \u001b[1;34m\"L\"\u001b[0m\u001b[1;33m:\u001b[0m\u001b[1;33m\u001b[0m\u001b[0m\n\u001b[1;32m---> 26\u001b[1;33m             \u001b[0mturtle\u001b[0m\u001b[1;33m.\u001b[0m\u001b[0mleft\u001b[0m\u001b[1;33m(\u001b[0m\u001b[0mlangle\u001b[0m\u001b[1;33m)\u001b[0m\u001b[1;33m\u001b[0m\u001b[0m\n\u001b[0m\u001b[0;32m     27\u001b[0m             \u001b[1;31m#turtle.color('blue')\u001b[0m\u001b[1;33m\u001b[0m\u001b[1;33m\u001b[0m\u001b[0m\n\u001b[0;32m     28\u001b[0m         \u001b[1;32melif\u001b[0m \u001b[0mmove\u001b[0m \u001b[1;33m==\u001b[0m \u001b[1;34m\"R\"\u001b[0m\u001b[1;33m:\u001b[0m\u001b[1;33m\u001b[0m\u001b[0m\n",
      "\u001b[1;32mC:\\ProgramData\\Anaconda3\\lib\\turtle.py\u001b[0m in \u001b[0;36mleft\u001b[1;34m(angle)\u001b[0m\n",
      "\u001b[1;31mTerminator\u001b[0m: "
     ]
    }
   ],
   "source": [
    "if __name__ == '__main__':\n",
    "    iterations = int(input(\"Enter the number of generations: \"))\n",
    "    myLen = int(input(\"Enter the forward movement length: \"))\n",
    "    \n",
    "    #JP curve drawing\n",
    "    make_fractal(myLen,90,90,iterations,'FX','X','XRYFR','Y','LFXLY')\n",
    "    \n",
    "turtle.exitonclick()"
   ]
  },
  {
   "cell_type": "code",
   "execution_count": null,
   "metadata": {},
   "outputs": [],
   "source": [
    "if __name__ == '__main__':\n",
    "    iterations = int(input(\"Enter the number of generations: \"))\n",
    "    myLen = int(input(\"Enter the forward movement length: \"))\n",
    "    \n",
    "    #JP curve drawing\n",
    "    make_fractal(myLen,90,90,iterations,'F','F','FLFRFRFFLFLFRF','F','FLFRFRFFLFLFRF')\n",
    "    \n",
    "turtle.exitonclick()"
   ]
  },
  {
   "cell_type": "code",
   "execution_count": null,
   "metadata": {},
   "outputs": [],
   "source": []
  }
 ],
 "metadata": {
  "kernelspec": {
   "display_name": "Python 3",
   "language": "python",
   "name": "python3"
  },
  "language_info": {
   "codemirror_mode": {
    "name": "ipython",
    "version": 3
   },
   "file_extension": ".py",
   "mimetype": "text/x-python",
   "name": "python",
   "nbconvert_exporter": "python",
   "pygments_lexer": "ipython3",
   "version": "3.6.4"
  }
 },
 "nbformat": 4,
 "nbformat_minor": 2
}
