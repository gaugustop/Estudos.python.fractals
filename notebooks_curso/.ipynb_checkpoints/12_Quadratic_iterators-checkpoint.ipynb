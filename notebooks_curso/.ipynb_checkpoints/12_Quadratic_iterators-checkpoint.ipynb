{
 "cells": [
  {
   "cell_type": "code",
   "execution_count": 7,
   "metadata": {
    "ExecuteTime": {
     "end_time": "2020-04-13T12:31:39.099722Z",
     "start_time": "2020-04-13T12:31:39.088752Z"
    }
   },
   "outputs": [],
   "source": [
    "import tkinter as tk\n",
    "from tkinter import *"
   ]
  },
  {
   "cell_type": "code",
   "execution_count": 10,
   "metadata": {
    "ExecuteTime": {
     "end_time": "2020-04-13T12:34:40.747992Z",
     "start_time": "2020-04-13T12:34:38.628343Z"
    }
   },
   "outputs": [],
   "source": [
    "#Quad1\n",
    "\n",
    "w = 1000 #canvas width/height\n",
    "\n",
    "root = tk.Tk()\n",
    "\n",
    "win = tk.Canvas(root,width = w, height = w, background='white')\n",
    "win.pack(side = tk.RIGHT)\n",
    "\n",
    "frm = tk.Frame(root)\n",
    "frm.pack(side = tk.LEFT)\n",
    "\n",
    "Label(frm,text='f(x)=ax(1-x)',font=('Arial',20)).grid(row=0)\n",
    "\n",
    "if __name__ == '__main__':\n",
    "    root.mainloop()"
   ]
  },
  {
   "cell_type": "code",
   "execution_count": 22,
   "metadata": {
    "ExecuteTime": {
     "end_time": "2020-04-13T12:45:26.891087Z",
     "start_time": "2020-04-13T12:44:57.802315Z"
    }
   },
   "outputs": [],
   "source": [
    "#Quad2\n",
    "w = 500 #canvas width/height\n",
    "\n",
    "root = tk.Tk()\n",
    "\n",
    "win = tk.Canvas(root,width = w, height = w, background='white')\n",
    "win.pack(side = tk.RIGHT)\n",
    "\n",
    "frm = tk.Frame(root,)\n",
    "frm.pack(side = tk.LEFT)\n",
    "\n",
    "def f(a,x):\n",
    "    return a*x*(1-x)\n",
    "\n",
    "\n",
    "def _draw():\n",
    "    win.delete('all')\n",
    "    a = float(param.get())\n",
    "    for x in range(w):\n",
    "        win.create_line(x,w-w*f(a,x/w),x+1,w-w*f(a,x/w)+1,fill='green')\n",
    "    \n",
    "\n",
    "\n",
    "\n",
    "Label(frm,text='f(x)=ax(1-x)',font=('Arial',20)).grid(row=0)\n",
    "\n",
    "Label(frm,text='a=',font=('Arial',20)).grid(row=1)\n",
    "param = StringVar()\n",
    "e1 = Entry(frm, textvariable=param, font=('Arial',20)).grid(row=1,column=1)\n",
    "param.set('1')\n",
    "\n",
    "btn = tk.Button(frm,text='Draw',command=_draw,font=('Arial',20)).grid(row=2)\n",
    "\n",
    "\n",
    "if __name__ == '__main__':\n",
    "    root.mainloop()\n",
    "    "
   ]
  },
  {
   "cell_type": "code",
   "execution_count": 29,
   "metadata": {
    "ExecuteTime": {
     "end_time": "2020-04-13T19:25:42.994283Z",
     "start_time": "2020-04-13T18:25:33.708828Z"
    }
   },
   "outputs": [],
   "source": [
    "#Quad_Final\n",
    "w = 800 #canvas width/height\n",
    "phi = 0.6180\n",
    "\n",
    "root = tk.Tk()\n",
    "\n",
    "win = tk.Canvas(root,width = w, height = w, background='white')\n",
    "win.pack(side = tk.RIGHT)\n",
    "\n",
    "frm = tk.Frame(root)\n",
    "frm.pack(side = tk.LEFT)\n",
    "\n",
    "def f(a,x):\n",
    "    return a*x*(1-x)\n",
    "\n",
    "\n",
    "def _draw():\n",
    "    win.delete('all')\n",
    "    a = float(param.get())\n",
    "    for x in range(w):\n",
    "        win.create_line(x,w-w*f(a,x/w),x+1,w-w*f(a,x/w)+1,fill='green')\n",
    "        win.create_line(x,w-x,x+1,w-x+1,fill='red')\n",
    "    \n",
    "def _Iterate():\n",
    "    _draw()\n",
    "\n",
    "    startingX = float(X0input.get())\n",
    "    numits = int(NumItInput.get())\n",
    "    a = float(param.get())\n",
    "\n",
    "    prior, current = startingX, f(a,startingX)\n",
    "\n",
    "    x1,y1,x2,y2 = startingX*w,w,startingX*w,w*(1-current)\n",
    "    win.create_line(x1,y1,x2,y2)\n",
    "    win.create_line(x2,y2,w-y2,y2)\n",
    "    x1,y1 = w-y2, y2\n",
    "\n",
    "    for i in range(numits-1):\n",
    "        prior, current = current, f(a,current)\n",
    "\n",
    "        x2,y2 = prior * w, w * (1-current)\n",
    "        win.create_line(x1,y1,x2,y2)\n",
    "        win.create_line(x2,y2,w-y2,y2)\n",
    "        x1,y1 = w-y2, y2\n",
    "\n",
    "Label(frm,text='f(x)=ax(1-x)',font=('Arial',20)).grid(row=0)\n",
    "\n",
    "#a parameter\n",
    "Label(frm,text='a=',font=('Arial',20)).grid(row=1)\n",
    "param = StringVar()\n",
    "e1 = Entry(frm, textvariable=param, font=('Arial',20)).grid(row=1,column=1)\n",
    "param.set('1')\n",
    "\n",
    "#Initial X value\n",
    "Label(frm,text='X0=',font=('Arial',20)).grid(row=2)\n",
    "X0input = StringVar()\n",
    "e2 = Entry(frm, textvariable=X0input, font=('Arial',20)).grid(row=2,column=1)\n",
    "X0input.set('0.234')\n",
    "\n",
    "#Number of iterations input\n",
    "Label(frm,text='Numits=',font=('Arial',20)).grid(row=3)\n",
    "NumItInput = StringVar()\n",
    "e3 = Entry(frm, textvariable=NumItInput, font=('Arial',20)).grid(row=3,column=1)\n",
    "NumItInput.set('10')\n",
    "\n",
    "btn = tk.Button(frm,text='Draw',command=_draw,font=('Arial',20)).grid(row=4)\n",
    "btn2 = tk.Button(frm,text='Iterate',command=_Iterate,font=('Arial',20)).grid(row=5)\n",
    "\n",
    "\n",
    "if __name__ == '__main__':\n",
    "    _draw()\n",
    "    root.mainloop()\n",
    "    "
   ]
  }
 ],
 "metadata": {
  "kernelspec": {
   "display_name": "Python 3",
   "language": "python",
   "name": "python3"
  },
  "language_info": {
   "codemirror_mode": {
    "name": "ipython",
    "version": 3
   },
   "file_extension": ".py",
   "mimetype": "text/x-python",
   "name": "python",
   "nbconvert_exporter": "python",
   "pygments_lexer": "ipython3",
   "version": "3.7.4"
  },
  "latex_envs": {
   "LaTeX_envs_menu_present": true,
   "autoclose": false,
   "autocomplete": true,
   "bibliofile": "biblio.bib",
   "cite_by": "apalike",
   "current_citInitial": 1,
   "eqLabelWithNumbers": true,
   "eqNumInitial": 1,
   "hotkeys": {
    "equation": "Ctrl-E",
    "itemize": "Ctrl-I"
   },
   "labels_anchors": false,
   "latex_user_defs": false,
   "report_style_numbering": false,
   "user_envs_cfg": false
  },
  "toc": {
   "base_numbering": 1,
   "nav_menu": {},
   "number_sections": true,
   "sideBar": true,
   "skip_h1_title": false,
   "title_cell": "Table of Contents",
   "title_sidebar": "Contents",
   "toc_cell": false,
   "toc_position": {},
   "toc_section_display": true,
   "toc_window_display": false
  }
 },
 "nbformat": 4,
 "nbformat_minor": 2
}
