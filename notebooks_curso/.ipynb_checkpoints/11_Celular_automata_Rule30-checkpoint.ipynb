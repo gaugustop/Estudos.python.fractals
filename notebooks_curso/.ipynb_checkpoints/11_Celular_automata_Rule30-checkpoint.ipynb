{
 "cells": [
  {
   "cell_type": "code",
   "execution_count": null,
   "metadata": {},
   "outputs": [],
   "source": [
    "#CAtest\n",
    "\n",
    "def CA():\n",
    "\n",
    "    numCells = 64\n",
    "\n",
    "    CA = []\n",
    "    for i in range(numCells):\n",
    "        CA.append(0)\n",
    "    CA[32] = 1 # initial condition\n",
    "\n",
    "    dic = {0:' ', 1:'*'}\n",
    "\n",
    "    print(''.join([dic[e] for e in CA]))\n",
    "\n",
    "    for step in range(32):\n",
    "        caNew = []\n",
    "        for i in range(numCells):\n",
    "            if CA[(i-1) % numCells] == CA[(i+1) % numCells]:\n",
    "                caNew.append(0)\n",
    "            else:\n",
    "                caNew.append(1)\n",
    "                \n",
    "        print(''.join([dic[e] for e in caNew]))\n",
    "        CA = caNew\n",
    "\n",
    "\n",
    "if __name__ == '__main__':\n",
    "    CA()"
   ]
  },
  {
   "cell_type": "markdown",
   "metadata": {},
   "source": [
    "# rule30"
   ]
  },
  {
   "cell_type": "code",
   "execution_count": null,
   "metadata": {},
   "outputs": [],
   "source": [
    "import sys"
   ]
  },
  {
   "cell_type": "code",
   "execution_count": null,
   "metadata": {},
   "outputs": [],
   "source": [
    "def rule30(N):\n",
    "\n",
    "    cells = range(-N, N+1)\n",
    "\n",
    "    #initial conditions\n",
    "    CA = {i: '0' for i in cells}\n",
    "    CA[0] = '1'\n",
    "    #padding\n",
    "    CA[-(N+1)] = '0'\n",
    "    CA[N+1] = '0'\n",
    "\n",
    "    #Define rule 30\n",
    "    rules = {'111':'0', '110':'0', '101':'0', '000':'0',\n",
    "             '100':'1', '011':'1', '010':'1', '001':'1'}\n",
    "\n",
    "    for step in range(N):\n",
    "\n",
    "        #print current state\n",
    "        for i in cells:\n",
    "            if CA[i] == '1':\n",
    "                sys.stdout.write(u'\\u2588')\n",
    "            else:\n",
    "                sys.stdout.write(' ')\n",
    "        sys.stdout.write('\\n')\n",
    "\n",
    "        #evolve it\n",
    "\n",
    "        #3 digit\n",
    "        patterns = {i: CA[i-1] + CA[i] + CA[i+1] for i in cells}\n",
    "\n",
    "        #Next generation\n",
    "        CA = {i: rules[patterns[i]] for i in cells}\n",
    "        CA[-(N+1)]='0'\n",
    "        CA[N+1]='0'\n",
    "    \n",
    "if __name__ == '__main__':\n",
    "    rule30(100)"
   ]
  }
 ],
 "metadata": {
  "kernelspec": {
   "display_name": "Python 3",
   "language": "python",
   "name": "python3"
  },
  "language_info": {
   "codemirror_mode": {
    "name": "ipython",
    "version": 3
   },
   "file_extension": ".py",
   "mimetype": "text/x-python",
   "name": "python",
   "nbconvert_exporter": "python",
   "pygments_lexer": "ipython3",
   "version": "3.6.4"
  }
 },
 "nbformat": 4,
 "nbformat_minor": 2
}
