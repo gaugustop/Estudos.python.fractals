{
 "cells": [
  {
   "cell_type": "code",
   "execution_count": 1,
   "metadata": {},
   "outputs": [],
   "source": [
    "import turtle"
   ]
  },
  {
   "cell_type": "code",
   "execution_count": 2,
   "metadata": {},
   "outputs": [
    {
     "name": "stdout",
     "output_type": "stream",
     "text": [
      "Enter the number of generations: 6\n",
      "Enter the forward movement length: 5\n"
     ]
    }
   ],
   "source": [
    "def setTurtle(myTuple):\n",
    "    t.up()\n",
    "    t.setx(myTuple[0])\n",
    "    t.sety(myTuple[1])\n",
    "    t.setheading(myTuple[2])\n",
    "    t.down()\n",
    "\n",
    "def make_fractal(length,langle,rangle,iterations,axiom,target,replace,target2,replace2):\n",
    "    state = axiom\n",
    "    turtleState=[]\n",
    "    \n",
    "    #make the L-System we want to process\n",
    "    for i in range(iterations):\n",
    "        nextState=''\n",
    "        for character in state:\n",
    "            if character == target:\n",
    "                nextState += replace\n",
    "            elif character == target2:\n",
    "                nextState += replace2\n",
    "            else:\n",
    "                nextState += character\n",
    "        state = nextState\n",
    "\n",
    "    t.down() #pen down\n",
    "    t.color('green','black')\n",
    "\n",
    "    for move in state: #another way to loop through all the characters in a string\n",
    "        if move == '[':\n",
    "            turtleState.append((t.xcor(),t.ycor(),t.heading()))\n",
    "        elif move == ']':\n",
    "            setTurtle(turtleState.pop())\n",
    "        elif move == \"F\":\n",
    "            t.forward(length)\n",
    "        elif move == \"L\":\n",
    "            t.left(langle)\n",
    "        elif move == \"R\":\n",
    "            t.right(rangle)\n",
    "\n",
    "if __name__ == '__main__':\n",
    "    iterations = int(input(\"Enter the number of generations: \"))\n",
    "    myLen = int(input(\"Enter the forward movement length: \"))\n",
    "    t = turtle.Turtle()\n",
    "    t.speed(0)\n",
    "    turtle.bgcolor('black')\n",
    "    setTurtle((0,-250,90))\n",
    "\n",
    "    #Simple plant\n",
    "    make_fractal(myLen,25,25,iterations,'F','F','F[RF]F[LF]F','','')\n",
    "    \n",
    "    #JP curve drawing\n",
    "    #make_fractal(myLen,90,90,iterations,'FX','X','XRYFR','Y','LFXLY')"
   ]
  }
 ],
 "metadata": {
  "kernelspec": {
   "display_name": "Python 3",
   "language": "python",
   "name": "python3"
  },
  "language_info": {
   "codemirror_mode": {
    "name": "ipython",
    "version": 3
   },
   "file_extension": ".py",
   "mimetype": "text/x-python",
   "name": "python",
   "nbconvert_exporter": "python",
   "pygments_lexer": "ipython3",
   "version": "3.6.4"
  }
 },
 "nbformat": 4,
 "nbformat_minor": 2
}
