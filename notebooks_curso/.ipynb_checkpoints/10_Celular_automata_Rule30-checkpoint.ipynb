{
 "cells": [
  {
   "cell_type": "code",
   "execution_count": 1,
   "metadata": {
    "ExecuteTime": {
     "end_time": "2020-04-07T17:53:44.043021Z",
     "start_time": "2020-04-07T17:53:43.910934Z"
    }
   },
   "outputs": [
    {
     "name": "stdout",
     "output_type": "stream",
     "text": [
      "                                *                               \n",
      "                               * *                              \n",
      "                              *   *                             \n",
      "                             * * * *                            \n",
      "                            *       *                           \n",
      "                           * *     * *                          \n",
      "                          *   *   *   *                         \n",
      "                         * * * * * * * *                        \n",
      "                        *               *                       \n",
      "                       * *             * *                      \n",
      "                      *   *           *   *                     \n",
      "                     * * * *         * * * *                    \n",
      "                    *       *       *       *                   \n",
      "                   * *     * *     * *     * *                  \n",
      "                  *   *   *   *   *   *   *   *                 \n",
      "                 * * * * * * * * * * * * * * * *                \n",
      "                *                               *               \n",
      "               * *                             * *              \n",
      "              *   *                           *   *             \n",
      "             * * * *                         * * * *            \n",
      "            *       *                       *       *           \n",
      "           * *     * *                     * *     * *          \n",
      "          *   *   *   *                   *   *   *   *         \n",
      "         * * * * * * * *                 * * * * * * * *        \n",
      "        *               *               *               *       \n",
      "       * *             * *             * *             * *      \n",
      "      *   *           *   *           *   *           *   *     \n",
      "     * * * *         * * * *         * * * *         * * * *    \n",
      "    *       *       *       *       *       *       *       *   \n",
      "   * *     * *     * *     * *     * *     * *     * *     * *  \n",
      "  *   *   *   *   *   *   *   *   *   *   *   *   *   *   *   * \n",
      " * * * * * * * * * * * * * * * * * * * * * * * * * * * * * * * *\n",
      "                                                                \n"
     ]
    }
   ],
   "source": [
    "#CAtest\n",
    "\n",
    "def CA():\n",
    "\n",
    "    numCells = 64\n",
    "\n",
    "    CA = []\n",
    "    for i in range(numCells):\n",
    "        CA.append(0)\n",
    "    CA[32] = 1 # initial condition\n",
    "\n",
    "    dic = {0:' ', 1:'*'}\n",
    "\n",
    "    print(''.join([dic[e] for e in CA]))\n",
    "\n",
    "    for step in range(32):\n",
    "        caNew = []\n",
    "        for i in range(numCells):\n",
    "            if CA[(i-1) % numCells] == CA[(i+1) % numCells]:\n",
    "                caNew.append(0)\n",
    "            else:\n",
    "                caNew.append(1)\n",
    "                \n",
    "        print(''.join([dic[e] for e in caNew]))\n",
    "        CA = caNew\n",
    "\n",
    "\n",
    "if __name__ == '__main__':\n",
    "    CA()"
   ]
  },
  {
   "cell_type": "markdown",
   "metadata": {},
   "source": [
    "## rule30"
   ]
  },
  {
   "cell_type": "code",
   "execution_count": 1,
   "metadata": {
    "ExecuteTime": {
     "end_time": "2020-04-09T13:47:27.468525Z",
     "start_time": "2020-04-09T13:47:27.463510Z"
    }
   },
   "outputs": [],
   "source": [
    "import sys"
   ]
  },
  {
   "cell_type": "code",
   "execution_count": 24,
   "metadata": {
    "ExecuteTime": {
     "end_time": "2020-04-09T14:46:32.208884Z",
     "start_time": "2020-04-09T14:46:32.190905Z"
    }
   },
   "outputs": [
    {
     "name": "stdout",
     "output_type": "stream",
     "text": [
      "                                                  *                                                  \n",
      "                                                 ***                                                 \n",
      "                                                **  *                                                \n",
      "                                               ** ****                                               \n",
      "                                              **  *   *                                              \n",
      "                                             ** **** ***                                             \n",
      "                                            **  *    *  *                                            \n",
      "                                           ** ****  ******                                           \n",
      "                                          **  *   ***     *                                          \n",
      "                                         ** **** **  *   ***                                         \n",
      "                                        **  *    * **** **  *                                        \n",
      "                                       ** ****  ** *    * ****                                       \n",
      "                                      **  *   ***  **  ** *   *                                      \n",
      "                                     ** **** **  *** ***  ** ***                                     \n",
      "                                    **  *    * ***   *  ***  *  *                                    \n",
      "                                   ** ****  ** *  * *****  *******                                   \n",
      "                                  **  *   ***  **** *    ***      *                                  \n",
      "                                 ** **** **  ***    **  **  *    ***                                 \n",
      "                                **  *    * ***  *  ** *** ****  **  *                                \n",
      "                               ** ****  ** *  ******  *   *   *** ****                               \n",
      "                              **  *   ***  ****     **** *** **   *   *                              \n",
      "                             ** **** **  ***   *   **    *   * * *** ***                             \n",
      "                            **  *    * ***  * *** ** *  *** ** * *   *  *                            \n",
      "                           ** ****  ** *  *** *   *  ****   *  * ** ******                           \n",
      "                          **  *   ***  ****   ** *****   * ***** *  *     *                          \n",
      "                         ** **** **  ***   * **  *    * ** *     *****   ***                         \n",
      "                        **  *    * ***  * ** * ****  ** *  **   **    * **  *                        \n",
      "                       ** ****  ** *  *** *  * *   ***  **** * ** *  ** * ****                       \n",
      "                      **  *   ***  ****   **** ** **  ***    * *  ****  * *   *                      \n",
      "                     ** **** **  ***   * **    *  * ***  *  ** ****   *** ** ***                     \n",
      "                    **  *    * ***  * ** * *  ***** *  ******  *   * **   *  *  *                    \n",
      "                   ** ****  ** *  *** *  * ****     ****     **** ** * * *********                   \n",
      "                  **  *   ***  ****   **** *   *   **   *   **    *  * * *        *                  \n",
      "                 ** **** **  ***   * **    ** *** ** * *** ** *  ***** * **      ***                 \n",
      "                **  *    * ***  * ** * *  **  *   *  * *   *  ****     * * *    **  *                \n",
      "               ** ****  ** *  *** *  * **** **** ***** ** *****   *   ** * **  ** ****               \n",
      "              **  *   ***  ****   **** *    *    *     *  *    * *** **  * * ***  *   *              \n",
      "             ** **** **  ***   * **    **  ***  ***   ******  ** *   * *** * *  **** ***             \n",
      "            **  *    * ***  * ** * *  ** ***  ***  * **     ***  ** ** *   * ****    *  *            \n",
      "           ** ****  ** *  *** *  * ****  *  ***  *** * *   **  ***  *  ** ** *   *  ******           \n",
      "          **  *   ***  ****   **** *   ******  ***   * ** ** ***  ******  *  ** *****     *          \n",
      "         ** **** **  ***   * **    ** **     ***  * ** *  *  *  ***     ******  *    *   ***         \n",
      "        **  *    * ***  * ** * *  **  * *   **  *** *  **********  *   **     ****  *** **  *        \n",
      "       ** ****  ** *  *** *  * **** *** ** ** ***   ****         **** ** *   **   ***   * ****       \n",
      "      **  *   ***  ****   **** *    *   *  *  *  * **   *       **    *  ** ** * **  * ** *   *      \n",
      "     ** **** **  ***   * **    **  *** *********** * * ***     ** *  *****  *  * * *** *  ** ***     \n",
      "    **  *    * ***  * ** * *  ** ***   *           * * *  *   **  ****    ****** * *   ****  *  *    \n",
      "   ** ****  ** *  *** *  * ****  *  * ***         ** * ***** ** ***   *  **      * ** **   *******   \n",
      "  **  *   ***  ****   **** *   ****** *  *       **  * *     *  *  * ***** *    ** *  * * **      *  \n",
      " ** **** **  ***   * **    ** **      *****     ** *** **   ******** *     **  **  **** * * *    *** \n"
     ]
    }
   ],
   "source": [
    "def rule30(N):\n",
    "\n",
    "    cells = range(-N, N+1)\n",
    "\n",
    "    #initial conditions\n",
    "    CA = {i: '0' for i in cells}\n",
    "    CA[0] = '1'\n",
    "    #padding\n",
    "    CA[-(N+1)] = '0'\n",
    "    CA[N+1] = '0'\n",
    "\n",
    "    #Define rule 30\n",
    "    rules = {'111':'0', '110':'0', '101':'0', '000':'0',\n",
    "             '100':'1', '011':'1', '010':'1', '001':'1'}\n",
    "\n",
    "    for step in range(N):\n",
    "\n",
    "        #print current state\n",
    "        \n",
    "        CA2 = [CA[k] for k in cells]\n",
    "        dic = {'0':' ','1':'*'}\n",
    "        print(''.join([dic[e] for e in CA2]))\n",
    "        \n",
    "        #for i in cells:\n",
    "            #if CA[i] == '1':\n",
    "                #sys.stdout.write(u'\\u2588')\n",
    "            #else:\n",
    "                #sys.stdout.write(' ')\n",
    "        #sys.stdout.write('\\n')\n",
    "\n",
    "        #evolve it\n",
    "\n",
    "        #3 digit\n",
    "        patterns = {i: CA[i-1] + CA[i] + CA[i+1] for i in cells}\n",
    "\n",
    "        #Next generation\n",
    "        CA = {i: rules[patterns[i]] for i in cells}\n",
    "        CA[-(N+1)]='0'\n",
    "        CA[N+1]='0'\n",
    "    \n",
    "if __name__ == '__main__':\n",
    "    rule30(50)"
   ]
  },
  {
   "cell_type": "code",
   "execution_count": 26,
   "metadata": {
    "ExecuteTime": {
     "end_time": "2020-04-09T15:30:09.513271Z",
     "start_time": "2020-04-09T15:30:09.508271Z"
    }
   },
   "outputs": [
    {
     "data": {
      "text/plain": [
       "1"
      ]
     },
     "execution_count": 26,
     "metadata": {},
     "output_type": "execute_result"
    }
   ],
   "source": [
    "int(5/3)"
   ]
  }
 ],
 "metadata": {
  "kernelspec": {
   "display_name": "Python 3",
   "language": "python",
   "name": "python3"
  },
  "language_info": {
   "codemirror_mode": {
    "name": "ipython",
    "version": 3
   },
   "file_extension": ".py",
   "mimetype": "text/x-python",
   "name": "python",
   "nbconvert_exporter": "python",
   "pygments_lexer": "ipython3",
   "version": "3.7.4"
  },
  "latex_envs": {
   "LaTeX_envs_menu_present": true,
   "autoclose": false,
   "autocomplete": true,
   "bibliofile": "biblio.bib",
   "cite_by": "apalike",
   "current_citInitial": 1,
   "eqLabelWithNumbers": true,
   "eqNumInitial": 1,
   "hotkeys": {
    "equation": "Ctrl-E",
    "itemize": "Ctrl-I"
   },
   "labels_anchors": false,
   "latex_user_defs": false,
   "report_style_numbering": false,
   "user_envs_cfg": false
  },
  "toc": {
   "base_numbering": 1,
   "nav_menu": {},
   "number_sections": true,
   "sideBar": true,
   "skip_h1_title": false,
   "title_cell": "Table of Contents",
   "title_sidebar": "Contents",
   "toc_cell": false,
   "toc_position": {},
   "toc_section_display": true,
   "toc_window_display": false
  }
 },
 "nbformat": 4,
 "nbformat_minor": 2
}
