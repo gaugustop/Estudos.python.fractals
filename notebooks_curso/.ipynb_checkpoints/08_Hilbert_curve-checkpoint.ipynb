{
 "cells": [
  {
   "cell_type": "code",
   "execution_count": null,
   "metadata": {},
   "outputs": [],
   "source": [
    "import turtle as t"
   ]
  },
  {
   "cell_type": "code",
   "execution_count": null,
   "metadata": {},
   "outputs": [],
   "source": [
    "def setTurtle(myTuple):\n",
    "    t.up()\n",
    "    t.setx(myTuple[0])\n",
    "    t.sety(myTuple[1])\n",
    "    t.setheading(myTuple[2])\n",
    "    t.down()\n",
    "\n",
    "def make_fractal(length,langle,rangle,iterations,axiom,target,replace,target2,replace2):\n",
    "    state = axiom\n",
    "    turtleState=[]\n",
    "    \n",
    "    #make the L-System we want to process\n",
    "    for i in range(iterations):\n",
    "        nextState=''\n",
    "        for character in state:\n",
    "            if character == target:\n",
    "                nextState += replace\n",
    "            elif character == target2:\n",
    "                nextState += replace2\n",
    "            else:\n",
    "                nextState += character\n",
    "        state = nextState\n",
    "\n",
    "    for move in state: \n",
    "        if move == '[':\n",
    "            turtleState.append((t.xcor(),t.ycor(),t.heading()))\n",
    "        elif move == ']':\n",
    "            setTurtle(turtleState.pop())\n",
    "        elif move == \"F\":\n",
    "            t.forward(length)\n",
    "        elif move == \"-\":\n",
    "            t.left(langle)\n",
    "        elif move == \"+\":\n",
    "            t.right(rangle)\n",
    "\n",
    "if __name__ == '__main__':\n",
    "    iterations = int(input(\"Enter the number of generations: \"))\n",
    "    myLen = int(input(\"Enter the forward movement length: \"))\n",
    "    \n",
    "    t.speed(0)\n",
    "    w = myLen * (2 ** iterations - 1)\n",
    "\n",
    "    t.setup(width=w,height=w,startx=0,starty=0)\n",
    "    setTurtle((-t.window_width()/2,t.window_height()/2,0))\n",
    "    t.setup(width=w*1.2,height=w*1.2,startx=0,starty=0)\n",
    "\n",
    "    #Hilbert Curve\n",
    "    make_fractal(myLen,90,90,iterations,'L','L','+RF-LFL-FR+','R','-LF+RFR+FL-')\n",
    "\n",
    "   "
   ]
  }
 ],
 "metadata": {
  "kernelspec": {
   "display_name": "Python 3",
   "language": "python",
   "name": "python3"
  },
  "language_info": {
   "codemirror_mode": {
    "name": "ipython",
    "version": 3
   },
   "file_extension": ".py",
   "mimetype": "text/x-python",
   "name": "python",
   "nbconvert_exporter": "python",
   "pygments_lexer": "ipython3",
   "version": "3.7.4"
  },
  "latex_envs": {
   "LaTeX_envs_menu_present": true,
   "autoclose": false,
   "autocomplete": true,
   "bibliofile": "biblio.bib",
   "cite_by": "apalike",
   "current_citInitial": 1,
   "eqLabelWithNumbers": true,
   "eqNumInitial": 1,
   "hotkeys": {
    "equation": "Ctrl-E",
    "itemize": "Ctrl-I"
   },
   "labels_anchors": false,
   "latex_user_defs": false,
   "report_style_numbering": false,
   "user_envs_cfg": false
  },
  "toc": {
   "base_numbering": 1,
   "nav_menu": {},
   "number_sections": true,
   "sideBar": true,
   "skip_h1_title": false,
   "title_cell": "Table of Contents",
   "title_sidebar": "Contents",
   "toc_cell": false,
   "toc_position": {},
   "toc_section_display": true,
   "toc_window_display": false
  }
 },
 "nbformat": 4,
 "nbformat_minor": 2
}
