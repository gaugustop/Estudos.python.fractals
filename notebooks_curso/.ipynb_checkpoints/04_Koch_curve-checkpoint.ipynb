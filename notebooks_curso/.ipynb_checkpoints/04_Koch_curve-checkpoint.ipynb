{
 "cells": [
  {
   "cell_type": "code",
   "execution_count": 2,
   "metadata": {},
   "outputs": [],
   "source": [
    "import turtle"
   ]
  },
  {
   "cell_type": "code",
   "execution_count": 13,
   "metadata": {},
   "outputs": [
    {
     "name": "stdout",
     "output_type": "stream",
     "text": [
      "Enter the number of generations: 4\n"
     ]
    }
   ],
   "source": [
    "#koch = 'F'\n",
    "koch = 'FRFRF' #para fazer o triangulo!!!  Axiom for Koch snowflakes\n",
    "iterations = input(\"Enter the number of generations: \") #type in a string\n",
    "iterations = int(iterations) #now it's an integer\n",
    "startLength=200 #Length of the generation 0 line\n",
    "\n",
    "#pick the pen up and move cursor to a good starting point\n",
    "turtle.bgcolor(\"black\")\n",
    "turtle.up()\n",
    "turtle.setpos(-startLength*3/2,startLength*3/2/2)\n",
    "turtle.speed(0)\n",
    "\n",
    "#make the L-System we want to process\n",
    "for i in range(iterations):\n",
    "    koch = koch.replace(\"F\",\"FLFRFLF\")\n",
    "\n",
    "turtle.down() #pen down\n",
    "turtle.color('white','blue') #draw line in red, fill black\n",
    "turtle.begin_fill() #set the fill setting\n",
    "\n",
    "for move in koch: #another way to loop through all the characters in a string\n",
    "    if move == \"F\":\n",
    "        turtle.forward(startLength / (3 ** (iterations - 1)))\n",
    "    elif move == \"L\":\n",
    "        turtle.left(60)\n",
    "    elif move == \"R\":\n",
    "        turtle.right(120)\n",
    "\n",
    "turtle.end_fill() #fill any enclosed areas\n",
    "turtle.exitonclick()"
   ]
  }
 ],
 "metadata": {
  "kernelspec": {
   "display_name": "Python 3",
   "language": "python",
   "name": "python3"
  },
  "language_info": {
   "codemirror_mode": {
    "name": "ipython",
    "version": 3
   },
   "file_extension": ".py",
   "mimetype": "text/x-python",
   "name": "python",
   "nbconvert_exporter": "python",
   "pygments_lexer": "ipython3",
   "version": "3.6.4"
  }
 },
 "nbformat": 4,
 "nbformat_minor": 2
}
