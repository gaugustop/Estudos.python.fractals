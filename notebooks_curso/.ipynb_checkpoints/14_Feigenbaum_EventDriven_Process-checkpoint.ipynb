{
 "cells": [
  {
   "cell_type": "code",
   "execution_count": null,
   "metadata": {},
   "outputs": [],
   "source": [
    "import tkinter as tk\n",
    "from tkinter import *\n",
    "import random"
   ]
  },
  {
   "cell_type": "code",
   "execution_count": null,
   "metadata": {},
   "outputs": [],
   "source": [
    "root=Tk()\n",
    "\n",
    "w = 750\n",
    "win = Canvas(root,height=w,width=w)\n",
    "win.grid(row=0,columnspan=2)\n",
    "\n",
    "def f(a,x):\n",
    "    return a * x * (1-x)\n",
    "\n",
    "\n",
    "Label(root,text='aMin=',font=('Arial',16)).grid(row=1)\n",
    "minA_Input=StringVar()\n",
    "e1=Entry(root,textvariable=minA_Input)\n",
    "e1.grid(row=1,column=1)\n",
    "minA_Input.set(0)\n",
    "\n",
    "Label(root,text='aMax=',font=('Arial',16)).grid(row=2)\n",
    "maxA_Input=StringVar()\n",
    "e2=Entry(root,textvariable=maxA_Input)\n",
    "e2.grid(row=2,column=1)\n",
    "maxA_Input.set(4)\n",
    "\n",
    "Label(root,text='Iterations=',font=('Arial',16)).grid(row=3)\n",
    "iter_Input=StringVar()\n",
    "e3=Entry(root,textvariable=iter_Input)\n",
    "e3.grid(row=3,column=1)\n",
    "iter_Input.set(100)\n",
    "\n",
    "def _draw():\n",
    "    win.delete('all')\n",
    "    minA=float(minA_Input.get())\n",
    "    maxA=float(maxA_Input.get())\n",
    "    maxIts =int(iter_Input.get())\n",
    "\n",
    "    a=minA\n",
    "\n",
    "    while a <= maxA:\n",
    "        x = random.random()#random number between 0 and 1\n",
    "        plotX = (a-minA)*w/(maxA-minA)\n",
    "        for numit in range(maxIts):\n",
    "            if numit > 0.5 * maxIts or numit > 100:\n",
    "                win.create_line(plotX,w-w*x,plotX+1,w-w*x+1)\n",
    "            x = f(a,x)    \n",
    "        a += (maxA-minA)/w\n",
    "\n",
    "\n",
    "\n",
    "btn = Button(root,text='Draw',command=_draw,font=('Arial',16))\n",
    "btn.grid(row=4)\n",
    "\n",
    "\n",
    "if __name__ == '__main__':\n",
    "    root.mainloop()"
   ]
  }
 ],
 "metadata": {
  "kernelspec": {
   "display_name": "Python 3",
   "language": "python",
   "name": "python3"
  },
  "language_info": {
   "codemirror_mode": {
    "name": "ipython",
    "version": 3
   },
   "file_extension": ".py",
   "mimetype": "text/x-python",
   "name": "python",
   "nbconvert_exporter": "python",
   "pygments_lexer": "ipython3",
   "version": "3.6.4"
  }
 },
 "nbformat": 4,
 "nbformat_minor": 2
}
