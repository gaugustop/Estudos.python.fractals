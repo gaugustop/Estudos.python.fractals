{
 "cells": [
  {
   "cell_type": "code",
   "execution_count": 2,
   "metadata": {
    "ExecuteTime": {
     "end_time": "2020-04-09T17:25:03.130209Z",
     "start_time": "2020-04-09T17:25:03.065346Z"
    }
   },
   "outputs": [],
   "source": [
    "from tkinter import *\n",
    "import time, random"
   ]
  },
  {
   "cell_type": "code",
   "execution_count": 5,
   "metadata": {
    "ExecuteTime": {
     "end_time": "2020-04-09T17:30:24.568351Z",
     "start_time": "2020-04-09T17:29:39.256411Z"
    }
   },
   "outputs": [
    {
     "ename": "TclError",
     "evalue": "invalid command name \".!canvas\"",
     "output_type": "error",
     "traceback": [
      "\u001b[1;31m---------------------------------------------------------------------------\u001b[0m",
      "\u001b[1;31mTclError\u001b[0m                                  Traceback (most recent call last)",
      "\u001b[1;32m<ipython-input-5-e421365b7345>\u001b[0m in \u001b[0;36m<module>\u001b[1;34m\u001b[0m\n\u001b[0;32m     88\u001b[0m     \u001b[1;32mfor\u001b[0m \u001b[0mi\u001b[0m \u001b[1;32min\u001b[0m \u001b[0mrange\u001b[0m\u001b[1;33m(\u001b[0m\u001b[0mgenerations\u001b[0m\u001b[1;33m)\u001b[0m\u001b[1;33m:\u001b[0m\u001b[1;33m\u001b[0m\u001b[1;33m\u001b[0m\u001b[0m\n\u001b[0;32m     89\u001b[0m         \u001b[0mtime\u001b[0m\u001b[1;33m.\u001b[0m\u001b[0msleep\u001b[0m\u001b[1;33m(\u001b[0m\u001b[1;36m0.1\u001b[0m\u001b[1;33m)\u001b[0m\u001b[1;33m\u001b[0m\u001b[1;33m\u001b[0m\u001b[0m\n\u001b[1;32m---> 90\u001b[1;33m         \u001b[0mGameOfLife\u001b[0m\u001b[1;33m(\u001b[0m\u001b[1;33m)\u001b[0m\u001b[1;33m\u001b[0m\u001b[1;33m\u001b[0m\u001b[0m\n\u001b[0m",
      "\u001b[1;32m<ipython-input-5-e421365b7345>\u001b[0m in \u001b[0;36mGameOfLife\u001b[1;34m()\u001b[0m\n\u001b[0;32m     71\u001b[0m                     \u001b[0mCAnext\u001b[0m\u001b[1;33m[\u001b[0m\u001b[0mi\u001b[0m\u001b[1;33m]\u001b[0m\u001b[1;33m[\u001b[0m\u001b[0mj\u001b[0m\u001b[1;33m]\u001b[0m \u001b[1;33m=\u001b[0m \u001b[1;36m1\u001b[0m\u001b[1;33m\u001b[0m\u001b[1;33m\u001b[0m\u001b[0m\n\u001b[0;32m     72\u001b[0m     \u001b[0mCA\u001b[0m \u001b[1;33m=\u001b[0m \u001b[0mCAnext\u001b[0m\u001b[1;33m\u001b[0m\u001b[1;33m\u001b[0m\u001b[0m\n\u001b[1;32m---> 73\u001b[1;33m     \u001b[0mRefreshGrid\u001b[0m\u001b[1;33m(\u001b[0m\u001b[1;33m)\u001b[0m\u001b[1;33m\u001b[0m\u001b[1;33m\u001b[0m\u001b[0m\n\u001b[0m\u001b[0;32m     74\u001b[0m \u001b[1;33m\u001b[0m\u001b[0m\n\u001b[0;32m     75\u001b[0m \u001b[1;33m\u001b[0m\u001b[0m\n",
      "\u001b[1;32m<ipython-input-5-e421365b7345>\u001b[0m in \u001b[0;36mRefreshGrid\u001b[1;34m()\u001b[0m\n\u001b[0;32m     23\u001b[0m     \u001b[1;32mglobal\u001b[0m \u001b[0mCA\u001b[0m\u001b[1;33m\u001b[0m\u001b[1;33m\u001b[0m\u001b[0m\n\u001b[0;32m     24\u001b[0m \u001b[1;33m\u001b[0m\u001b[0m\n\u001b[1;32m---> 25\u001b[1;33m     \u001b[0mInitCanvas\u001b[0m\u001b[1;33m(\u001b[0m\u001b[1;33m)\u001b[0m\u001b[1;33m\u001b[0m\u001b[1;33m\u001b[0m\u001b[0m\n\u001b[0m\u001b[0;32m     26\u001b[0m \u001b[1;33m\u001b[0m\u001b[0m\n\u001b[0;32m     27\u001b[0m     \u001b[1;31m#Just going to paint the live cells in the CA\u001b[0m\u001b[1;33m\u001b[0m\u001b[1;33m\u001b[0m\u001b[1;33m\u001b[0m\u001b[0m\n",
      "\u001b[1;32m<ipython-input-5-e421365b7345>\u001b[0m in \u001b[0;36mInitCanvas\u001b[1;34m()\u001b[0m\n\u001b[0;32m     12\u001b[0m \u001b[1;31m#Clear the canvas object, redraw grid\u001b[0m\u001b[1;33m\u001b[0m\u001b[1;33m\u001b[0m\u001b[1;33m\u001b[0m\u001b[0m\n\u001b[0;32m     13\u001b[0m \u001b[1;32mdef\u001b[0m \u001b[0mInitCanvas\u001b[0m\u001b[1;33m(\u001b[0m\u001b[1;33m)\u001b[0m\u001b[1;33m:\u001b[0m\u001b[1;33m\u001b[0m\u001b[1;33m\u001b[0m\u001b[0m\n\u001b[1;32m---> 14\u001b[1;33m     \u001b[0mwin\u001b[0m\u001b[1;33m.\u001b[0m\u001b[0mdelete\u001b[0m\u001b[1;33m(\u001b[0m\u001b[1;34m'all'\u001b[0m\u001b[1;33m)\u001b[0m\u001b[1;33m\u001b[0m\u001b[1;33m\u001b[0m\u001b[0m\n\u001b[0m\u001b[0;32m     15\u001b[0m \u001b[1;33m\u001b[0m\u001b[0m\n\u001b[0;32m     16\u001b[0m     \u001b[1;31m#draw grid\u001b[0m\u001b[1;33m\u001b[0m\u001b[1;33m\u001b[0m\u001b[1;33m\u001b[0m\u001b[0m\n",
      "\u001b[1;32mC:\\ProgramData\\Anaconda3\\lib\\tkinter\\__init__.py\u001b[0m in \u001b[0;36mdelete\u001b[1;34m(self, *args)\u001b[0m\n\u001b[0;32m   2512\u001b[0m     \u001b[1;32mdef\u001b[0m \u001b[0mdelete\u001b[0m\u001b[1;33m(\u001b[0m\u001b[0mself\u001b[0m\u001b[1;33m,\u001b[0m \u001b[1;33m*\u001b[0m\u001b[0margs\u001b[0m\u001b[1;33m)\u001b[0m\u001b[1;33m:\u001b[0m\u001b[1;33m\u001b[0m\u001b[1;33m\u001b[0m\u001b[0m\n\u001b[0;32m   2513\u001b[0m         \u001b[1;34m\"\"\"Delete items identified by all tag or ids contained in ARGS.\"\"\"\u001b[0m\u001b[1;33m\u001b[0m\u001b[1;33m\u001b[0m\u001b[0m\n\u001b[1;32m-> 2514\u001b[1;33m         \u001b[0mself\u001b[0m\u001b[1;33m.\u001b[0m\u001b[0mtk\u001b[0m\u001b[1;33m.\u001b[0m\u001b[0mcall\u001b[0m\u001b[1;33m(\u001b[0m\u001b[1;33m(\u001b[0m\u001b[0mself\u001b[0m\u001b[1;33m.\u001b[0m\u001b[0m_w\u001b[0m\u001b[1;33m,\u001b[0m \u001b[1;34m'delete'\u001b[0m\u001b[1;33m)\u001b[0m \u001b[1;33m+\u001b[0m \u001b[0margs\u001b[0m\u001b[1;33m)\u001b[0m\u001b[1;33m\u001b[0m\u001b[1;33m\u001b[0m\u001b[0m\n\u001b[0m\u001b[0;32m   2515\u001b[0m     \u001b[1;32mdef\u001b[0m \u001b[0mdtag\u001b[0m\u001b[1;33m(\u001b[0m\u001b[0mself\u001b[0m\u001b[1;33m,\u001b[0m \u001b[1;33m*\u001b[0m\u001b[0margs\u001b[0m\u001b[1;33m)\u001b[0m\u001b[1;33m:\u001b[0m\u001b[1;33m\u001b[0m\u001b[1;33m\u001b[0m\u001b[0m\n\u001b[0;32m   2516\u001b[0m         \"\"\"Delete tag or id given as last arguments in ARGS from items\n",
      "\u001b[1;31mTclError\u001b[0m: invalid command name \".!canvas\""
     ]
    }
   ],
   "source": [
    "#Global variables\n",
    "gridSize = 10 #side length of each square in grid, in pixel\n",
    "screenSize = 1000\n",
    "numCells = int(screenSize/gridSize)\n",
    "\n",
    "win = Canvas(Tk(),width = screenSize, height = screenSize)\n",
    "\n",
    "#This is my CA matrix\n",
    "CA = [[0 for x in range(numCells)] for y in range(numCells)]\n",
    "\n",
    "\n",
    "#Clear the canvas object, redraw grid\n",
    "def InitCanvas():\n",
    "    win.delete('all')\n",
    "\n",
    "    #draw grid\n",
    "    for i in range(numCells):\n",
    "        win.create_line(0,gridSize * i, screenSize, gridSize * i)\n",
    "        win.create_line(gridSize * i, 0, gridSize * i, screenSize)\n",
    "    win.pack()\n",
    "\n",
    "def RefreshGrid():\n",
    "    global CA\n",
    "\n",
    "    InitCanvas()\n",
    "\n",
    "    #Just going to paint the live cells in the CA\n",
    "    for i in range(numCells):\n",
    "        for j in range(numCells):\n",
    "            if CA[i][j] == 1:\n",
    "                x1 = gridSize * i\n",
    "                y1 = gridSize * j\n",
    "                win.create_rectangle(x1,y1,x1+gridSize,y1+gridSize,fill='black')\n",
    "    win.update()\n",
    "\n",
    "def GameOfLife():\n",
    "    global CA\n",
    "\n",
    "    CAnext = [[0 for x in range(numCells)] for y in range(numCells)]\n",
    "\n",
    "    for i in range(numCells):\n",
    "        for j in range(numCells):\n",
    "            lives = 0\n",
    "\n",
    "            if CA[(i+0)%numCells][(j+1)%numCells] == 1:\n",
    "                lives += 1\n",
    "            if CA[(i+0)%numCells][(j-1)%numCells] == 1:\n",
    "                lives += 1\n",
    "            if CA[(i+1)%numCells][(j+0)%numCells] == 1:\n",
    "                lives += 1\n",
    "            if CA[(i-1)%numCells][(j+0)%numCells] == 1:\n",
    "                lives += 1\n",
    "            if CA[(i+1)%numCells][(j+1)%numCells] == 1:\n",
    "                lives += 1\n",
    "            if CA[(i+1)%numCells][(j-1)%numCells] == 1:\n",
    "                lives += 1\n",
    "            if CA[(i-1)%numCells][(j+1)%numCells] == 1:\n",
    "                lives += 1\n",
    "            if CA[(i-1)%numCells][(j-1)%numCells] == 1:\n",
    "                lives += 1\n",
    "\n",
    "            if CA[i][j] == 1:\n",
    "                if lives <= 1:\n",
    "                    CAnext[i][j] = 0\n",
    "                elif lives > 3:\n",
    "                    CAnext[i][j] = 0\n",
    "                else:\n",
    "                    CAnext[i][j] = 1\n",
    "            else:\n",
    "                if lives == 3:\n",
    "                    CAnext[i][j] = 1\n",
    "    CA = CAnext\n",
    "    RefreshGrid()\n",
    "            \n",
    "\n",
    "                \n",
    "if __name__ == '__main__':\n",
    "\n",
    "    #Randomly seed the board\n",
    "    for i in range(numCells):\n",
    "        for j in range(numCells):\n",
    "            CA[i][j]=random.randint(0,1)\n",
    "\n",
    "    RefreshGrid()\n",
    "\n",
    "    generations = 1000\n",
    "\n",
    "    for i in range(generations):\n",
    "        time.sleep(0.1)\n",
    "        GameOfLife()"
   ]
  },
  {
   "cell_type": "code",
   "execution_count": 6,
   "metadata": {
    "ExecuteTime": {
     "end_time": "2020-04-09T17:42:38.445553Z",
     "start_time": "2020-04-09T17:42:17.045392Z"
    }
   },
   "outputs": [
    {
     "ename": "TclError",
     "evalue": "invalid command name \".!canvas\"",
     "output_type": "error",
     "traceback": [
      "\u001b[1;31m---------------------------------------------------------------------------\u001b[0m",
      "\u001b[1;31mTclError\u001b[0m                                  Traceback (most recent call last)",
      "\u001b[1;32m<ipython-input-6-ebd1920a2ebd>\u001b[0m in \u001b[0;36m<module>\u001b[1;34m\u001b[0m\n\u001b[0;32m     92\u001b[0m     \u001b[1;32mfor\u001b[0m \u001b[0mi\u001b[0m \u001b[1;32min\u001b[0m \u001b[0mrange\u001b[0m\u001b[1;33m(\u001b[0m\u001b[0mgenerations\u001b[0m\u001b[1;33m)\u001b[0m\u001b[1;33m:\u001b[0m\u001b[1;33m\u001b[0m\u001b[1;33m\u001b[0m\u001b[0m\n\u001b[0;32m     93\u001b[0m         \u001b[1;31m#time.sleep(0.1)\u001b[0m\u001b[1;33m\u001b[0m\u001b[1;33m\u001b[0m\u001b[1;33m\u001b[0m\u001b[0m\n\u001b[1;32m---> 94\u001b[1;33m         \u001b[0mMRule\u001b[0m\u001b[1;33m(\u001b[0m\u001b[1;33m)\u001b[0m\u001b[1;33m\u001b[0m\u001b[1;33m\u001b[0m\u001b[0m\n\u001b[0m",
      "\u001b[1;32m<ipython-input-6-ebd1920a2ebd>\u001b[0m in \u001b[0;36mMRule\u001b[1;34m()\u001b[0m\n\u001b[0;32m     72\u001b[0m \u001b[1;33m\u001b[0m\u001b[0m\n\u001b[0;32m     73\u001b[0m     \u001b[0mCA\u001b[0m \u001b[1;33m=\u001b[0m \u001b[0mCAnext\u001b[0m\u001b[1;33m\u001b[0m\u001b[1;33m\u001b[0m\u001b[0m\n\u001b[1;32m---> 74\u001b[1;33m     \u001b[0mRefreshGrid\u001b[0m\u001b[1;33m(\u001b[0m\u001b[1;33m)\u001b[0m\u001b[1;33m\u001b[0m\u001b[1;33m\u001b[0m\u001b[0m\n\u001b[0m\u001b[0;32m     75\u001b[0m \u001b[1;33m\u001b[0m\u001b[0m\n\u001b[0;32m     76\u001b[0m \u001b[1;33m\u001b[0m\u001b[0m\n",
      "\u001b[1;32m<ipython-input-6-ebd1920a2ebd>\u001b[0m in \u001b[0;36mRefreshGrid\u001b[1;34m()\u001b[0m\n\u001b[0;32m     25\u001b[0m     \u001b[1;32mglobal\u001b[0m \u001b[0mCA\u001b[0m\u001b[1;33m\u001b[0m\u001b[1;33m\u001b[0m\u001b[0m\n\u001b[0;32m     26\u001b[0m \u001b[1;33m\u001b[0m\u001b[0m\n\u001b[1;32m---> 27\u001b[1;33m     \u001b[0mInitCanvas\u001b[0m\u001b[1;33m(\u001b[0m\u001b[1;33m)\u001b[0m\u001b[1;33m\u001b[0m\u001b[1;33m\u001b[0m\u001b[0m\n\u001b[0m\u001b[0;32m     28\u001b[0m \u001b[1;33m\u001b[0m\u001b[0m\n\u001b[0;32m     29\u001b[0m     \u001b[1;31m#Just going to paint the live cells in the CA\u001b[0m\u001b[1;33m\u001b[0m\u001b[1;33m\u001b[0m\u001b[1;33m\u001b[0m\u001b[0m\n",
      "\u001b[1;32m<ipython-input-6-ebd1920a2ebd>\u001b[0m in \u001b[0;36mInitCanvas\u001b[1;34m()\u001b[0m\n\u001b[0;32m     14\u001b[0m \u001b[1;31m#Clear the canvas object, redraw grid\u001b[0m\u001b[1;33m\u001b[0m\u001b[1;33m\u001b[0m\u001b[1;33m\u001b[0m\u001b[0m\n\u001b[0;32m     15\u001b[0m \u001b[1;32mdef\u001b[0m \u001b[0mInitCanvas\u001b[0m\u001b[1;33m(\u001b[0m\u001b[1;33m)\u001b[0m\u001b[1;33m:\u001b[0m\u001b[1;33m\u001b[0m\u001b[1;33m\u001b[0m\u001b[0m\n\u001b[1;32m---> 16\u001b[1;33m     \u001b[0mwin\u001b[0m\u001b[1;33m.\u001b[0m\u001b[0mdelete\u001b[0m\u001b[1;33m(\u001b[0m\u001b[1;34m'all'\u001b[0m\u001b[1;33m)\u001b[0m\u001b[1;33m\u001b[0m\u001b[1;33m\u001b[0m\u001b[0m\n\u001b[0m\u001b[0;32m     17\u001b[0m \u001b[1;33m\u001b[0m\u001b[0m\n\u001b[0;32m     18\u001b[0m     \u001b[1;31m#draw grid\u001b[0m\u001b[1;33m\u001b[0m\u001b[1;33m\u001b[0m\u001b[1;33m\u001b[0m\u001b[0m\n",
      "\u001b[1;32mC:\\ProgramData\\Anaconda3\\lib\\tkinter\\__init__.py\u001b[0m in \u001b[0;36mdelete\u001b[1;34m(self, *args)\u001b[0m\n\u001b[0;32m   2512\u001b[0m     \u001b[1;32mdef\u001b[0m \u001b[0mdelete\u001b[0m\u001b[1;33m(\u001b[0m\u001b[0mself\u001b[0m\u001b[1;33m,\u001b[0m \u001b[1;33m*\u001b[0m\u001b[0margs\u001b[0m\u001b[1;33m)\u001b[0m\u001b[1;33m:\u001b[0m\u001b[1;33m\u001b[0m\u001b[1;33m\u001b[0m\u001b[0m\n\u001b[0;32m   2513\u001b[0m         \u001b[1;34m\"\"\"Delete items identified by all tag or ids contained in ARGS.\"\"\"\u001b[0m\u001b[1;33m\u001b[0m\u001b[1;33m\u001b[0m\u001b[0m\n\u001b[1;32m-> 2514\u001b[1;33m         \u001b[0mself\u001b[0m\u001b[1;33m.\u001b[0m\u001b[0mtk\u001b[0m\u001b[1;33m.\u001b[0m\u001b[0mcall\u001b[0m\u001b[1;33m(\u001b[0m\u001b[1;33m(\u001b[0m\u001b[0mself\u001b[0m\u001b[1;33m.\u001b[0m\u001b[0m_w\u001b[0m\u001b[1;33m,\u001b[0m \u001b[1;34m'delete'\u001b[0m\u001b[1;33m)\u001b[0m \u001b[1;33m+\u001b[0m \u001b[0margs\u001b[0m\u001b[1;33m)\u001b[0m\u001b[1;33m\u001b[0m\u001b[1;33m\u001b[0m\u001b[0m\n\u001b[0m\u001b[0;32m   2515\u001b[0m     \u001b[1;32mdef\u001b[0m \u001b[0mdtag\u001b[0m\u001b[1;33m(\u001b[0m\u001b[0mself\u001b[0m\u001b[1;33m,\u001b[0m \u001b[1;33m*\u001b[0m\u001b[0margs\u001b[0m\u001b[1;33m)\u001b[0m\u001b[1;33m:\u001b[0m\u001b[1;33m\u001b[0m\u001b[1;33m\u001b[0m\u001b[0m\n\u001b[0;32m   2516\u001b[0m         \"\"\"Delete tag or id given as last arguments in ARGS from items\n",
      "\u001b[1;31mTclError\u001b[0m: invalid command name \".!canvas\""
     ]
    }
   ],
   "source": [
    "#MRule - regiões costeiras e afins\n",
    "\n",
    "#Global variables\n",
    "gridSize = 10 #side length of each square in grid, in pixel\n",
    "screenSize = 1000\n",
    "numCells = int(screenSize/gridSize)\n",
    "\n",
    "win = Canvas(Tk(),width = screenSize, height = screenSize)\n",
    "\n",
    "#This is my CA matrix\n",
    "CA = [[0 for x in range(numCells)] for y in range(numCells)]\n",
    "\n",
    "\n",
    "#Clear the canvas object, redraw grid\n",
    "def InitCanvas():\n",
    "    win.delete('all')\n",
    "\n",
    "    #draw grid\n",
    "    for i in range(numCells):\n",
    "        win.create_line(0,gridSize * i, screenSize, gridSize * i)\n",
    "        win.create_line(gridSize * i, 0, gridSize * i, screenSize)\n",
    "    win.pack()\n",
    "\n",
    "def RefreshGrid():\n",
    "    global CA\n",
    "\n",
    "    InitCanvas()\n",
    "\n",
    "    #Just going to paint the live cells in the CA\n",
    "    for i in range(numCells):\n",
    "        for j in range(numCells):\n",
    "            if CA[i][j] == 1:\n",
    "                x1 = gridSize * i\n",
    "                y1 = gridSize * j\n",
    "                win.create_rectangle(x1,y1,x1+gridSize,y1+gridSize,fill='black')\n",
    "    win.update()\n",
    "\n",
    "def MRule():\n",
    "    global CA\n",
    "\n",
    "    CAnext = [[0 for x in range(numCells)] for y in range(numCells)]\n",
    "\n",
    "    for i in range(numCells):\n",
    "        for j in range(numCells):\n",
    "            lives = 0\n",
    "\n",
    "            if CA[(i+0)%numCells][(j+1)%numCells] == 1:\n",
    "                lives += 1\n",
    "            if CA[(i+0)%numCells][(j-1)%numCells] == 1:\n",
    "                lives += 1\n",
    "            if CA[(i+1)%numCells][(j+0)%numCells] == 1:\n",
    "                lives += 1\n",
    "            if CA[(i-1)%numCells][(j+0)%numCells] == 1:\n",
    "                lives += 1\n",
    "            if CA[(i+1)%numCells][(j+1)%numCells] == 1:\n",
    "                lives += 1\n",
    "            if CA[(i+1)%numCells][(j-1)%numCells] == 1:\n",
    "                lives += 1\n",
    "            if CA[(i-1)%numCells][(j+1)%numCells] == 1:\n",
    "                lives += 1\n",
    "            if CA[(i-1)%numCells][(j-1)%numCells] == 1:\n",
    "                lives += 1\n",
    "            if CA[(i+0)%numCells][(j+0)%numCells] == 1:\n",
    "                lives += 1\n",
    "\n",
    "            if lives >= 5:\n",
    "                CAnext[i][j] = 1\n",
    "            else:\n",
    "                CAnext[i][j] = CA[i][j]\n",
    "\n",
    "\n",
    "            \n",
    "    CA = CAnext\n",
    "    RefreshGrid()\n",
    "            \n",
    "\n",
    "                \n",
    "if __name__ == '__main__':\n",
    "\n",
    "    #Randomly seed the board\n",
    "    for i in range(numCells):\n",
    "        for j in range(numCells):\n",
    "            if random.randint(1,100) < 33:\n",
    "                CA[i][j] = 1\n",
    "            else:\n",
    "                CA[i][j] = 0\n",
    "\n",
    "    RefreshGrid()\n",
    "\n",
    "    generations = 1000\n",
    "\n",
    "    for i in range(generations):\n",
    "        #time.sleep(0.1)\n",
    "        MRule()"
   ]
  },
  {
   "cell_type": "code",
   "execution_count": 3,
   "metadata": {
    "ExecuteTime": {
     "end_time": "2020-04-09T15:33:22.144117Z",
     "start_time": "2020-04-09T15:33:22.131151Z"
    }
   },
   "outputs": [
    {
     "data": {
      "text/plain": [
       "[[0, 0, 0, 0, 0, 0, 0, 0, 0, 0],\n",
       " [0, 0, 0, 0, 0, 0, 0, 0, 0, 0],\n",
       " [0, 0, 0, 0, 0, 0, 0, 0, 0, 0],\n",
       " [0, 0, 0, 0, 0, 0, 0, 0, 0, 0],\n",
       " [0, 0, 0, 0, 0, 0, 0, 0, 0, 0]]"
      ]
     },
     "execution_count": 3,
     "metadata": {},
     "output_type": "execute_result"
    }
   ],
   "source": [
    "\n",
    "CA = [[0 for x in range(10)] for y in range(5)]\n",
    "CA\n"
   ]
  }
 ],
 "metadata": {
  "kernelspec": {
   "display_name": "Python 3",
   "language": "python",
   "name": "python3"
  },
  "language_info": {
   "codemirror_mode": {
    "name": "ipython",
    "version": 3
   },
   "file_extension": ".py",
   "mimetype": "text/x-python",
   "name": "python",
   "nbconvert_exporter": "python",
   "pygments_lexer": "ipython3",
   "version": "3.7.4"
  },
  "latex_envs": {
   "LaTeX_envs_menu_present": true,
   "autoclose": false,
   "autocomplete": true,
   "bibliofile": "biblio.bib",
   "cite_by": "apalike",
   "current_citInitial": 1,
   "eqLabelWithNumbers": true,
   "eqNumInitial": 1,
   "hotkeys": {
    "equation": "Ctrl-E",
    "itemize": "Ctrl-I"
   },
   "labels_anchors": false,
   "latex_user_defs": false,
   "report_style_numbering": false,
   "user_envs_cfg": false
  },
  "toc": {
   "base_numbering": 1,
   "nav_menu": {},
   "number_sections": true,
   "sideBar": true,
   "skip_h1_title": false,
   "title_cell": "Table of Contents",
   "title_sidebar": "Contents",
   "toc_cell": false,
   "toc_position": {},
   "toc_section_display": true,
   "toc_window_display": false
  }
 },
 "nbformat": 4,
 "nbformat_minor": 2
}
