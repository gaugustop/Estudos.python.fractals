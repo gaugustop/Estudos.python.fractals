{
 "cells": [
  {
   "cell_type": "code",
   "execution_count": null,
   "metadata": {},
   "outputs": [],
   "source": [
    "from turtle import *"
   ]
  },
  {
   "cell_type": "code",
   "execution_count": null,
   "metadata": {},
   "outputs": [],
   "source": [
    "#sphirograph\n",
    "turtle.screensize(1000,1000)\n",
    "turtle.pensize(6)\n",
    "for i in range(10):\n",
    "    turtle.pencolor((10-i)/10,i/10,1)\n",
    "    turtle.circle(100)\n",
    "    turtle.right(300/10)\n"
   ]
  },
  {
   "cell_type": "code",
   "execution_count": null,
   "metadata": {},
   "outputs": [],
   "source": [
    "#hexagon Spiral\n",
    "color = ['red','pink','yellow','green','blue']\n",
    "bgcolor('black')\n",
    "speed(0)\n",
    "for x in range(600):\n",
    "    pencolor(color[x%5])\n",
    "    forward(x)\n",
    "    right(58)\n"
   ]
  },
  {
   "cell_type": "code",
   "execution_count": null,
   "metadata": {},
   "outputs": [],
   "source": []
  },
  {
   "cell_type": "code",
   "execution_count": null,
   "metadata": {},
   "outputs": [],
   "source": []
  }
 ],
 "metadata": {
  "kernelspec": {
   "display_name": "Python 3",
   "language": "python",
   "name": "python3"
  },
  "language_info": {
   "codemirror_mode": {
    "name": "ipython",
    "version": 3
   },
   "file_extension": ".py",
   "mimetype": "text/x-python",
   "name": "python",
   "nbconvert_exporter": "python",
   "pygments_lexer": "ipython3",
   "version": "3.6.4"
  }
 },
 "nbformat": 4,
 "nbformat_minor": 2
}
