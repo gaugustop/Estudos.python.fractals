{
 "cells": [
  {
   "cell_type": "code",
   "execution_count": 1,
   "metadata": {
    "ExecuteTime": {
     "end_time": "2020-04-11T23:19:17.173557Z",
     "start_time": "2020-04-11T23:19:17.070855Z"
    }
   },
   "outputs": [],
   "source": [
    "import turtle"
   ]
  },
  {
   "cell_type": "code",
   "execution_count": 11,
   "metadata": {
    "ExecuteTime": {
     "end_time": "2020-04-12T00:33:47.541905Z",
     "start_time": "2020-04-12T00:33:44.206029Z"
    }
   },
   "outputs": [
    {
     "name": "stdout",
     "output_type": "stream",
     "text": [
      "Enter the number of generations: 4\n"
     ]
    },
    {
     "ename": "Terminator",
     "evalue": "",
     "output_type": "error",
     "traceback": [
      "\u001b[1;31m---------------------------------------------------------------------------\u001b[0m",
      "\u001b[1;31mTerminator\u001b[0m                                Traceback (most recent call last)",
      "\u001b[1;32m<ipython-input-11-9d5e267d9205>\u001b[0m in \u001b[0;36m<module>\u001b[1;34m\u001b[0m\n\u001b[0;32m     21\u001b[0m \u001b[1;32mfor\u001b[0m \u001b[0mmove\u001b[0m \u001b[1;32min\u001b[0m \u001b[0mkoch\u001b[0m\u001b[1;33m:\u001b[0m \u001b[1;31m#another way to loop through all the characters in a string\u001b[0m\u001b[1;33m\u001b[0m\u001b[1;33m\u001b[0m\u001b[0m\n\u001b[0;32m     22\u001b[0m     \u001b[1;32mif\u001b[0m \u001b[0mmove\u001b[0m \u001b[1;33m==\u001b[0m \u001b[1;34m\"F\"\u001b[0m\u001b[1;33m:\u001b[0m\u001b[1;33m\u001b[0m\u001b[1;33m\u001b[0m\u001b[0m\n\u001b[1;32m---> 23\u001b[1;33m         \u001b[0mturtle\u001b[0m\u001b[1;33m.\u001b[0m\u001b[0mforward\u001b[0m\u001b[1;33m(\u001b[0m\u001b[0mstartLength\u001b[0m \u001b[1;33m/\u001b[0m \u001b[1;33m(\u001b[0m\u001b[1;36m3\u001b[0m \u001b[1;33m**\u001b[0m \u001b[1;33m(\u001b[0m\u001b[0miterations\u001b[0m \u001b[1;33m-\u001b[0m \u001b[1;36m1\u001b[0m\u001b[1;33m)\u001b[0m\u001b[1;33m)\u001b[0m\u001b[1;33m)\u001b[0m\u001b[1;33m\u001b[0m\u001b[1;33m\u001b[0m\u001b[0m\n\u001b[0m\u001b[0;32m     24\u001b[0m     \u001b[1;32melif\u001b[0m \u001b[0mmove\u001b[0m \u001b[1;33m==\u001b[0m \u001b[1;34m\"L\"\u001b[0m\u001b[1;33m:\u001b[0m\u001b[1;33m\u001b[0m\u001b[1;33m\u001b[0m\u001b[0m\n\u001b[0;32m     25\u001b[0m         \u001b[0mturtle\u001b[0m\u001b[1;33m.\u001b[0m\u001b[0mleft\u001b[0m\u001b[1;33m(\u001b[0m\u001b[1;36m60\u001b[0m\u001b[1;33m)\u001b[0m\u001b[1;33m\u001b[0m\u001b[1;33m\u001b[0m\u001b[0m\n",
      "\u001b[1;32mC:\\ProgramData\\Anaconda3\\lib\\turtle.py\u001b[0m in \u001b[0;36mforward\u001b[1;34m(distance)\u001b[0m\n",
      "\u001b[1;31mTerminator\u001b[0m: "
     ]
    }
   ],
   "source": [
    "#koch = 'F'\n",
    "koch = 'FRFRF' #para fazer o triangulo!!!  Axiom for Koch snowflakes\n",
    "iterations = input(\"Enter the number of generations: \") #type in a string\n",
    "iterations = int(iterations) #now it's an integer\n",
    "startLength=200 #Length of the generation 0 line\n",
    "\n",
    "#pick the pen up and move cursor to a good starting point\n",
    "turtle.bgcolor(\"black\")\n",
    "turtle.up()\n",
    "turtle.setpos(-startLength*3/2,startLength*3/2/2)\n",
    "turtle.speed(0)\n",
    "\n",
    "#make the L-System we want to process\n",
    "for i in range(iterations):\n",
    "    koch = koch.replace(\"F\",\"FLFRFLF\")\n",
    "\n",
    "turtle.down() #pen down\n",
    "turtle.color('white','blue') #draw line in red, fill black\n",
    "turtle.begin_fill() #set the fill setting\n",
    "\n",
    "for move in koch: #another way to loop through all the characters in a string\n",
    "    if move == \"F\":\n",
    "        turtle.forward(startLength / (3 ** (iterations - 1)))\n",
    "    elif move == \"L\":\n",
    "        turtle.left(60)\n",
    "    elif move == \"R\":\n",
    "        turtle.right(120)\n",
    "\n",
    "turtle.end_fill() #fill any enclosed areas\n",
    "turtle.exitonclick()"
   ]
  },
  {
   "cell_type": "code",
   "execution_count": null,
   "metadata": {},
   "outputs": [],
   "source": []
  }
 ],
 "metadata": {
  "kernelspec": {
   "display_name": "Python 3",
   "language": "python",
   "name": "python3"
  },
  "language_info": {
   "codemirror_mode": {
    "name": "ipython",
    "version": 3
   },
   "file_extension": ".py",
   "mimetype": "text/x-python",
   "name": "python",
   "nbconvert_exporter": "python",
   "pygments_lexer": "ipython3",
   "version": "3.7.4"
  },
  "latex_envs": {
   "LaTeX_envs_menu_present": true,
   "autoclose": false,
   "autocomplete": true,
   "bibliofile": "biblio.bib",
   "cite_by": "apalike",
   "current_citInitial": 1,
   "eqLabelWithNumbers": true,
   "eqNumInitial": 1,
   "hotkeys": {
    "equation": "Ctrl-E",
    "itemize": "Ctrl-I"
   },
   "labels_anchors": false,
   "latex_user_defs": false,
   "report_style_numbering": false,
   "user_envs_cfg": false
  },
  "toc": {
   "base_numbering": 1,
   "nav_menu": {},
   "number_sections": true,
   "sideBar": true,
   "skip_h1_title": false,
   "title_cell": "Table of Contents",
   "title_sidebar": "Contents",
   "toc_cell": false,
   "toc_position": {},
   "toc_section_display": true,
   "toc_window_display": false
  }
 },
 "nbformat": 4,
 "nbformat_minor": 2
}
