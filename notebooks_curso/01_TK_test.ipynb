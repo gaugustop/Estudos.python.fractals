{
 "cells": [
  {
   "cell_type": "code",
   "execution_count": 1,
   "metadata": {},
   "outputs": [],
   "source": [
    "#import matplotlib.pyplot as plt\n",
    "from tkinter import *\n",
    "# %matplotlib qt\n",
    "# %matplotlib qt"
   ]
  },
  {
   "cell_type": "code",
   "execution_count": 2,
   "metadata": {},
   "outputs": [],
   "source": [
    "\n",
    "root = Tk()\n",
    "\n",
    "win = Canvas(root,height = 1000,width = 1000)\n",
    "win.pack()\n",
    "win.master.title('My window')\n",
    "win.create_line(0,0,100,100)\n",
    "root.mainloop()\n",
    "\n"
   ]
  },
  {
   "cell_type": "code",
   "execution_count": 3,
   "metadata": {},
   "outputs": [],
   "source": [
    "#Cantor set\n",
    "def cantor(x,y,l):\n",
    "    if l > 1: #limite da função: 1 pixel\n",
    "        win_cantor.create_line(x, y, x + l, y)\n",
    "        y = y + 50 #proximas linhas\n",
    "        cantor(x, y, 1/3 * l)\n",
    "        cantor(x + 2/3*l,y, 1/3*l)"
   ]
  },
  {
   "cell_type": "code",
   "execution_count": 4,
   "metadata": {},
   "outputs": [],
   "source": [
    "w = 1000\n",
    "h = 600\n",
    "\n",
    "root = Tk()\n",
    "win_cantor = Canvas(root,height = h, width = w)\n",
    "win_cantor.pack()\n",
    "win_cantor.master.title('Conjunto de Cantor')\n",
    "\n",
    "cantor(10,10,980)\n",
    "root.mainloop()"
   ]
  },
  {
   "cell_type": "code",
   "execution_count": 5,
   "metadata": {},
   "outputs": [],
   "source": [
    "#do professor:\n",
    "def cantor_set(x,y,l):\n",
    "    if l > 1: #keep doing this while the line is > 1 pixel lon\n",
    "        win.create_line(x,y,x+l,y) #draw horizontal lin\n",
    "        y = y + 50 #move 50 pixels down for next generation\n",
    "        cantor_set(x,y,l/3) #left hand offspring\n",
    "        cantor_set(x+2/3*l,y,l/3) #right hand offspring\n",
    "\n",
    "from tkinter import *\n",
    "w,h = 1500,500\n",
    "win = Canvas(Tk(),width=w,height=h)\n",
    "win.pack()\n",
    "cantor_set(10,10,w-20)\n"
   ]
  }
 ],
 "metadata": {
  "kernelspec": {
   "display_name": "Python 3",
   "language": "python",
   "name": "python3"
  },
  "language_info": {
   "codemirror_mode": {
    "name": "ipython",
    "version": 3
   },
   "file_extension": ".py",
   "mimetype": "text/x-python",
   "name": "python",
   "nbconvert_exporter": "python",
   "pygments_lexer": "ipython3",
   "version": "3.6.4"
  }
 },
 "nbformat": 4,
 "nbformat_minor": 2
}
