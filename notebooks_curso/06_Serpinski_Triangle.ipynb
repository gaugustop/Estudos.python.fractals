{
 "cells": [
  {
   "cell_type": "code",
   "execution_count": 1,
   "metadata": {},
   "outputs": [],
   "source": [
    "import turtle"
   ]
  },
  {
   "cell_type": "code",
   "execution_count": 5,
   "metadata": {},
   "outputs": [
    {
     "name": "stdout",
     "output_type": "stream",
     "text": [
      "Enter the number of generations: 6\n",
      "Enter the side length: 500\n"
     ]
    }
   ],
   "source": [
    "def serpinski(side,level):\n",
    "    angle = 60\n",
    "\n",
    "    if level == 0:\n",
    "        for i in range(3): #draw a triangle\n",
    "            t.fd(side)\n",
    "            t.left(180-angle)\n",
    "    else:\n",
    "        #Triangle, F, Triangle, B, LFR, Triangle, LBR\n",
    "        serpinski(side/2,level-1)\n",
    "        t.fd(side/2)\n",
    "        serpinski(side/2,level-1)\n",
    "        t.bk(side/2)\n",
    "        t.left(angle)\n",
    "        t.fd(side/2)\n",
    "        t.right(angle)\n",
    "        serpinski(side/2,level-1)\n",
    "        t.left(angle)\n",
    "        t.bk(side/2)\n",
    "        t.right(angle)\n",
    "\n",
    "\n",
    "\n",
    "if __name__ == '__main__':\n",
    "    iterations = int(input(\"Enter the number of generations: \"))\n",
    "    myLen = int(input(\"Enter the side length: \"))\n",
    "\n",
    "    t = turtle.Turtle()\n",
    "    t.clear()\n",
    "    t.shape('turtle')\n",
    "    t.speed(0)\n",
    "\n",
    "    #position t\n",
    "    t.up()\n",
    "    t.setpos(-myLen/2,-myLen/2)\n",
    "    t.down()\n",
    "\n",
    "    t.color('black','black')\n",
    "    t.begin_fill()\n",
    "    serpinski(myLen,iterations)\n",
    "    t.end_fill()\n",
    "    \n"
   ]
  },
  {
   "cell_type": "code",
   "execution_count": null,
   "metadata": {},
   "outputs": [],
   "source": []
  }
 ],
 "metadata": {
  "kernelspec": {
   "display_name": "Python 3",
   "language": "python",
   "name": "python3"
  },
  "language_info": {
   "codemirror_mode": {
    "name": "ipython",
    "version": 3
   },
   "file_extension": ".py",
   "mimetype": "text/x-python",
   "name": "python",
   "nbconvert_exporter": "python",
   "pygments_lexer": "ipython3",
   "version": "3.6.4"
  }
 },
 "nbformat": 4,
 "nbformat_minor": 2
}
