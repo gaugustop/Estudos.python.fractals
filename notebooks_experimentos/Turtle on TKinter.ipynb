{
 "cells": [
  {
   "cell_type": "code",
   "execution_count": 1,
   "metadata": {
    "ExecuteTime": {
     "end_time": "2020-04-16T14:52:35.407062Z",
     "start_time": "2020-04-16T14:49:57.828183Z"
    }
   },
   "outputs": [],
   "source": [
    "import turtle\n",
    "import tkinter as tk\n",
    "\n",
    "def forward():\n",
    "    t.forward(100)\n",
    "\n",
    "def back():\n",
    "    t.back(100)\n",
    "\n",
    "def left():\n",
    "    t.left(90)\n",
    "\n",
    "def right():\n",
    "    t.right(90)\n",
    "\n",
    "root = tk.Tk()\n",
    "canvas = tk.Canvas(master = root, width = 500, height = 500)\n",
    "canvas.pack()\n",
    "\n",
    "t = turtle.RawTurtle(canvas)\n",
    "t.pencolor(\"#ff0000\") # Red\n",
    "\n",
    "t.penup()   # Regarding one of the comments\n",
    "t.pendown() # Regarding one of the comments\n",
    "\n",
    "tk.Button(master = root, text = \"Forward\", command = forward).pack(side = tk.LEFT)\n",
    "tk.Button(master = root, text = \"Back\", command = back).pack(side = tk.LEFT)\n",
    "tk.Button(master = root, text = \"Left\", command = left).pack(side = tk.LEFT)\n",
    "tk.Button(master = root, text = \"Right\", command = right).pack(side = tk.LEFT)\n",
    "\n",
    "root.mainloop()"
   ]
  }
 ],
 "metadata": {
  "kernelspec": {
   "display_name": "Python 3",
   "language": "python",
   "name": "python3"
  },
  "language_info": {
   "codemirror_mode": {
    "name": "ipython",
    "version": 3
   },
   "file_extension": ".py",
   "mimetype": "text/x-python",
   "name": "python",
   "nbconvert_exporter": "python",
   "pygments_lexer": "ipython3",
   "version": "3.7.4"
  },
  "latex_envs": {
   "LaTeX_envs_menu_present": true,
   "autoclose": false,
   "autocomplete": true,
   "bibliofile": "biblio.bib",
   "cite_by": "apalike",
   "current_citInitial": 1,
   "eqLabelWithNumbers": true,
   "eqNumInitial": 1,
   "hotkeys": {
    "equation": "Ctrl-E",
    "itemize": "Ctrl-I"
   },
   "labels_anchors": false,
   "latex_user_defs": false,
   "report_style_numbering": false,
   "user_envs_cfg": false
  },
  "toc": {
   "base_numbering": 1,
   "nav_menu": {},
   "number_sections": true,
   "sideBar": true,
   "skip_h1_title": false,
   "title_cell": "Table of Contents",
   "title_sidebar": "Contents",
   "toc_cell": false,
   "toc_position": {},
   "toc_section_display": true,
   "toc_window_display": false
  }
 },
 "nbformat": 4,
 "nbformat_minor": 2
}
