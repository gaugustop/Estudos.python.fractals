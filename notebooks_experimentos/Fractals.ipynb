{
 "cells": [
  {
   "cell_type": "code",
   "execution_count": 1,
   "metadata": {
    "ExecuteTime": {
     "end_time": "2021-06-16T18:27:56.491826Z",
     "start_time": "2021-06-16T18:27:56.019842Z"
    }
   },
   "outputs": [],
   "source": [
    "import numpy as np\n",
    "import matplotlib.pyplot as plt\n",
    "import turtle as tu\n"
   ]
  },
  {
   "cell_type": "markdown",
   "metadata": {},
   "source": [
    "### 1. Árvore "
   ]
  },
  {
   "cell_type": "code",
   "execution_count": 2,
   "metadata": {
    "ExecuteTime": {
     "end_time": "2021-06-16T18:26:30.333894Z",
     "start_time": "2021-06-16T18:26:06.073505Z"
    }
   },
   "outputs": [],
   "source": [
    "#Setup\n",
    "foo = tu.Turtle()\n",
    "tu.clearscreen()\n",
    "foo.reset()\n",
    "foo.left(90)\n",
    "foo.speed(0)\n",
    "\n",
    "\n",
    "\n",
    "#arvore em recursão (chamar a função dentro da função)\n",
    "def draw_tree (l,s) :\n",
    "    '''desenha uma arvore com comprimento l largura inicial s '''\n",
    "    if(l<5):\n",
    "        return\n",
    "    else:\n",
    "        foo.pensize(s)\n",
    "        foo.forward(l)\n",
    "        foo.left(30)\n",
    "        draw_tree(l*2/3,np.maximum(1,s*3/4))\n",
    "        foo.right(60)\n",
    "        draw_tree(l*2/3,np.maximum(1,s*3/4))\n",
    "        foo.left(30)\n",
    "        foo.backward(l)\n",
    "        \n",
    "\n",
    "#chamando a função:\n",
    "\n",
    "draw_tree(100,5)\n",
    "\n",
    "#\n",
    "#foo.right(90)\n",
    "#draw_tree(80)\n",
    "#\n",
    "#foo.right(90)\n",
    "#draw_tree(80)\n",
    "#\n",
    "#foo.right(90)\n",
    "#draw_tree(80)\n",
    "\n"
   ]
  },
  {
   "cell_type": "markdown",
   "metadata": {},
   "source": [
    "#### 1.1 Árvore aleatória\n"
   ]
  },
  {
   "cell_type": "code",
   "execution_count": 3,
   "metadata": {
    "ExecuteTime": {
     "end_time": "2021-06-16T17:37:32.070814Z",
     "start_time": "2021-06-16T17:35:12.408399Z"
    }
   },
   "outputs": [
    {
     "ename": "AttributeError",
     "evalue": "'Turtle' object has no attribute 'exitonclick'",
     "output_type": "error",
     "traceback": [
      "Traceback \u001b[1;36m(most recent call last)\u001b[0m:\n",
      "\u001b[1;36m  File \u001b[1;32m\"C:\\Users\\Gabriel\\AppData\\Local\\Temp/ipykernel_22252/597342931.py\"\u001b[1;36m, line \u001b[1;32m38\u001b[1;36m, in \u001b[1;35m<module>\u001b[1;36m\u001b[0m\n\u001b[1;33m    foo.exitonclick()\u001b[0m\n",
      "\u001b[1;31mAttributeError\u001b[0m\u001b[1;31m:\u001b[0m 'Turtle' object has no attribute 'exitonclick'\n"
     ]
    }
   ],
   "source": [
    "#Setup\n",
    "foo = tu.Turtle()\n",
    "tu.clearscreen()\n",
    "foo.reset()\n",
    "foo.left(90)\n",
    "foo.penup()\n",
    "foo.backward(250)\n",
    "foo.pendown()\n",
    "foo.speed(0)\n",
    "\n",
    "\n",
    "\n",
    "#arvore em recursão (chamar a função dentro da função)\n",
    "def draw_tree (l,s) :\n",
    "    '''desenha uma arvore com comprimento l largura inicial s '''\n",
    "    if(l<5):\n",
    "        return\n",
    "    else:\n",
    "        if(s<1.5):\n",
    "            foo.color('green') #coloca cor nos galhos mais finos que 0.8\n",
    "        else: \n",
    "            foo.color('brown')\n",
    "            \n",
    "        foo.pensize(s)\n",
    "        foo.forward(l)\n",
    "        foo.left(30)\n",
    "        draw_tree(l/2 + np.random.sample()*l/2 , np.maximum(1,s*4/5))\n",
    "        foo.right(60)\n",
    "        draw_tree(l/2 + np.random.sample()*l/2 , np.maximum(1,s*4/5))\n",
    "        foo.left(30)\n",
    "        foo.backward(l)\n",
    "        \n",
    "#Chamando a função\n",
    "\n",
    "draw_tree(60,6)\n",
    "\n",
    "\n",
    "foo.exitonclick()\n",
    "        "
   ]
  },
  {
   "cell_type": "code",
   "execution_count": null,
   "metadata": {},
   "outputs": [],
   "source": [
    "np.random.sample(0)"
   ]
  },
  {
   "cell_type": "markdown",
   "metadata": {},
   "source": [
    "### 2. Stacy (quadrados)"
   ]
  },
  {
   "cell_type": "code",
   "execution_count": null,
   "metadata": {
    "ExecuteTime": {
     "end_time": "2021-06-16T17:33:58.101109Z",
     "start_time": "2021-06-16T17:33:43.798649Z"
    }
   },
   "outputs": [],
   "source": [
    "#Setup\n",
    "#loadWindow = tu.Screen()\n",
    "#tu.clearscreen()\n",
    "stacy = tu.Turtle()\n",
    "stacy.reset()\n",
    "stacy.speed(0)\n",
    "stacy.width(10)\n",
    "\n",
    "\n",
    "#stacy.penup()\n",
    "#stacy.goto(100,0)\n",
    "#stacy.pendown()\n",
    "#stacy.left(90)\n",
    "\n",
    "#defining the function\n",
    "def draw_fractal(length):\n",
    "    \n",
    "    if length < 5 :\n",
    "        return\n",
    "    else:\n",
    "        stacy.forward(length/2)\n",
    "        stacy.right(90)\n",
    "        draw_fractal(length/2)\n",
    "        stacy.left(180)\n",
    "        draw_fractal(length/2)\n",
    "        stacy.right(90)\n",
    "        stacy.forward(length/2)\n",
    "        stacy.backward(length)\n",
    "        \n",
    "        \n",
    "#running function\n",
    "draw_fractal(500)\n",
    "\n",
    "#exit\n",
    "tu.exitonclick()"
   ]
  },
  {
   "cell_type": "markdown",
   "metadata": {},
   "source": [
    "### 3 Kock Fractal"
   ]
  },
  {
   "cell_type": "code",
   "execution_count": 3,
   "metadata": {
    "ExecuteTime": {
     "end_time": "2021-06-16T18:28:54.682893Z",
     "start_time": "2021-06-16T18:28:00.783202Z"
    }
   },
   "outputs": [],
   "source": [
    "tu.clearscreen()\n",
    "koch = tu.Turtle()\n",
    "koch.reset()\n",
    "koch.speed(0)\n",
    "\n",
    "def Recursive_Koch(lenght, depth):   \n",
    "    if depth > 0:\n",
    "        for t in [60, -120, 60, 0]:\n",
    "            Recursive_Koch(lenght/3 , depth-1)\n",
    "            koch.left(t)\n",
    "    else:\n",
    "        koch.forward(lenght)\n",
    "        \n",
    "        \n",
    "\n",
    "   \n",
    "    \n",
    "\n",
    "# ----------\n",
    "#koch.penup()\n",
    "#koch.left(90)\n",
    "#koch.backward(300)\n",
    "#koch.right(90)\n",
    "#koch.pendown()\n",
    "\n",
    "Recursive_Koch(100, 4)\n",
    "\n",
    "tu.exitonclick()"
   ]
  },
  {
   "cell_type": "code",
   "execution_count": null,
   "metadata": {
    "ExecuteTime": {
     "end_time": "2021-06-16T17:31:39.909145Z",
     "start_time": "2021-06-16T17:31:39.026936Z"
    }
   },
   "outputs": [],
   "source": [
    "# Draw a Koch snowflake\n",
    "from turtle import *\n",
    "\n",
    "def koch(a, order):\n",
    "    if order > 0:\n",
    "        for t in [60, -120, 60, 0]:\n",
    "            koch(a/3, order - 1)\n",
    "            left(t)\n",
    "    else:\n",
    "        forward(a)\n",
    "\n",
    "# Test\n",
    "#reset()\n",
    "#koch(100, 0)\n",
    "#pensize(3)\n",
    "koch(100, 1)"
   ]
  },
  {
   "cell_type": "code",
   "execution_count": null,
   "metadata": {
    "ExecuteTime": {
     "end_time": "2021-06-16T17:32:11.342134Z",
     "start_time": "2021-06-16T17:32:11.274318Z"
    }
   },
   "outputs": [],
   "source": [
    "# Choose colours and size\n",
    "color(\"sky blue\", \"white\")\n",
    "bgcolor(\"black\")\n",
    "size = 400\n",
    "order = 0\n",
    "\n",
    "# Ensure snowflake is centred\n",
    "penup()\n",
    "backward(size/1.732)\n",
    "left(30)\n",
    "pendown()\n",
    "\n",
    "# Make it fast\n",
    "tracer(100)\n",
    "hideturtle()\n",
    "\n",
    "begin_fill()\n",
    "\n",
    "# Three Koch curves\n",
    "for i in range(3):\n",
    "    koch(size, order)\n",
    "    right(120)\n",
    "\n",
    "end_fill()\n",
    "\n",
    "# Make the last parts appear\n",
    "update()"
   ]
  },
  {
   "cell_type": "markdown",
   "metadata": {},
   "source": [
    "### 4. Mandelbrot Set"
   ]
  },
  {
   "cell_type": "code",
   "execution_count": null,
   "metadata": {
    "ExecuteTime": {
     "end_time": "2021-06-16T17:22:26.734732Z",
     "start_time": "2021-06-16T17:22:26.715783Z"
    }
   },
   "outputs": [],
   "source": [
    "def mandelbrot(Re, Im, max_inter):\n",
    "    c = complex(Re, Im)\n",
    "    z = 0.0j #definição do conjunto de mandelbrot, para diferentes pontos iniciais veja Julia Sets\n",
    " \n",
    "    if(c.real*c.real + c.imag*c.imag) >= 4:\n",
    "        return 0 \n",
    "    else:\n",
    "        for i in range(max_inter):\n",
    "            z = z*z + c #processo iterativo para gerar o mandelbrot set\n",
    "            if(z.real*z.real + z.imag*z.imag) >= 4:\n",
    "                return i + 1\n",
    "        return max_inter + 1\n",
    "\n",
    "\n"
   ]
  },
  {
   "cell_type": "code",
   "execution_count": null,
   "metadata": {
    "ExecuteTime": {
     "end_time": "2021-06-16T17:22:30.806749Z",
     "start_time": "2021-06-16T17:22:27.642007Z"
    }
   },
   "outputs": [],
   "source": [
    "columns = 500\n",
    "rows = 750\n",
    "\n",
    "result = np.zeros([rows, columns])\n",
    "for row_index, Re in enumerate(np.linspace(-2, 1 ,num = rows)):\n",
    "    for column_index, Im in enumerate(np.linspace(-1, 1, num = columns)):\n",
    "        result[row_index, column_index] = mandelbrot(Re, Im, 50)\n",
    "        "
   ]
  },
  {
   "cell_type": "code",
   "execution_count": null,
   "metadata": {
    "ExecuteTime": {
     "end_time": "2021-06-16T17:22:32.759753Z",
     "start_time": "2021-06-16T17:22:32.361611Z"
    },
    "scrolled": true
   },
   "outputs": [],
   "source": [
    "t = np.linspace(0,2*np.pi,60)\n",
    "\n",
    "circulo_real = 0.7885*np.cos(t)\n",
    "circulo_imag = 0.7855*np.sin(t)\n",
    "\n",
    "circulo_real2 = -1 + 0.275*np.cos(t)\n",
    "circulo_imag2 = 0 + 0.275*np.sin(t)\n",
    "\n",
    "\n",
    "plt.figure(dpi=100)\n",
    "\n",
    "plt.imshow(result.T, cmap = 'jet', interpolation = 'bilinear', extent = [-2, 1, -1, 1])\n",
    "plt.plot(circulo_real,circulo_imag,'k')\n",
    "plt.plot(circulo_real2,circulo_imag2,'k')\n",
    "plt.xlabel('Re')\n",
    "plt.ylabel('Im')\n",
    "plt.colorbar()\n",
    "plt.grid()\n",
    "plt.show()"
   ]
  },
  {
   "cell_type": "code",
   "execution_count": null,
   "metadata": {
    "ExecuteTime": {
     "end_time": "2021-06-16T17:22:39.624803Z",
     "start_time": "2021-06-16T17:22:35.797384Z"
    }
   },
   "outputs": [],
   "source": [
    "# encontrando Pi no Mandelbrot set\n",
    "\n",
    "k=13 #varie k  entre 0 e 13 e veja o que acontece\n",
    "\n",
    "\n",
    "d = 10**-k\n",
    "x = 0.25 + d\n",
    "\n",
    "print(x)\n",
    "print(mandelbrot(x,0,99999999)*10**(-k/2))\n",
    "print(np.pi)"
   ]
  },
  {
   "cell_type": "markdown",
   "metadata": {},
   "source": [
    "### 5. Julia Sets"
   ]
  },
  {
   "cell_type": "code",
   "execution_count": null,
   "metadata": {
    "ExecuteTime": {
     "end_time": "2021-06-16T17:22:39.765440Z",
     "start_time": "2021-06-16T17:22:39.752462Z"
    }
   },
   "outputs": [],
   "source": [
    "def julia(Re_z, Im_z, Re_c, Im_c, max_inter):\n",
    "    c = complex(Re_c, Im_c)\n",
    "    z = complex(Re_z, Im_z)\n",
    "  \n",
    "    if z.real*z.real + z.imag*z.imag >= 4:\n",
    "        return 0\n",
    "    else:\n",
    "        for i in range(max_inter):\n",
    "            z = z*z + c #processo iterativo para gerar o julia set\n",
    "            if(z.real*z.real + z.imag*z.imag) >= 4:\n",
    "                return i + 1\n",
    "        return max_inter + 1"
   ]
  },
  {
   "cell_type": "code",
   "execution_count": null,
   "metadata": {
    "ExecuteTime": {
     "end_time": "2021-06-16T17:24:12.076320Z",
     "start_time": "2021-06-16T17:22:41.065543Z"
    }
   },
   "outputs": [],
   "source": [
    "columns = 500\n",
    "rows = 500\n",
    "\n",
    "#Cada valor de c = Re_c + Im_c.i dará um conjunto de Julia diferente\n",
    "\n",
    "phi = (1 + np.sqrt(5))/2\n",
    "#a = np.pi/6\n",
    "#c = 0.7885*np.exp(complex(0,a))\n",
    "#c=0.4+0.6j\n",
    "#c = -0.835 - 0.2321j\n",
    "\n",
    "\n",
    "result_j = np.zeros([rows, columns, 96])\n",
    "a = np.zeros(96)\n",
    "\n",
    "for n in range(96):\n",
    "    \n",
    "    a[n] = (np.pi)*(n/95) \n",
    "    c = 0.7885*np.exp(complex(0,a[n])) #basta investigar de 0 a pi, pois o conjunto de mandelbrot é simétrico em relação ao eixo Real.\n",
    "    Re_c = c.real\n",
    "    Im_c = c.imag\n",
    "    \n",
    "    for row_index, Re_z in enumerate(np.linspace(-1.5, 1.5 ,num = rows)):\n",
    "        for column_index, Im_z in enumerate(np.linspace(-1.5, 1.5, num = columns)):\n",
    "            result_j[row_index, column_index, n] = julia(Re_z, Im_z, Re_c, Im_c, 50)"
   ]
  },
  {
   "cell_type": "code",
   "execution_count": null,
   "metadata": {
    "ExecuteTime": {
     "end_time": "2021-06-16T17:26:03.414813Z",
     "start_time": "2021-06-16T17:25:48.861786Z"
    }
   },
   "outputs": [],
   "source": [
    "plt.figure(dpi=100, figsize=[12,72])\n",
    "x = np.linspace(-1.5,1.5)\n",
    "\n",
    "for n in range(96):\n",
    "    plt.subplot(24,4,n+1)\n",
    "    plt.imshow(result_j[:,:,n].T, cmap = 'jet', interpolation = 'bilinear', extent = [-1.5, 1.5, -1.5, 1.5])\n",
    "    plt.plot(x, np.tan(a[n])*x, label = str(a[n]*180/np.pi))\n",
    "    plt.ylim(-1.5,1.5)\n",
    "    #plt.xlabel('Re')\n",
    "    #plt.ylabel('Im')\n",
    "    #plt.title('a = ' + str(np.pi*(n/11))\n",
    "    #plt.colorbar()\n",
    "    #plt.grid()\n",
    "    plt.legend()\n",
    "    \n",
    "plt.show()"
   ]
  },
  {
   "cell_type": "code",
   "execution_count": null,
   "metadata": {
    "ExecuteTime": {
     "end_time": "2021-06-16T17:28:06.282460Z",
     "start_time": "2021-06-16T17:26:20.174887Z"
    }
   },
   "outputs": [],
   "source": [
    "#outro conjunto\n",
    "\n",
    "columns2 = 500\n",
    "rows2 = 500\n",
    "\n",
    "#Cada valor de c = Re_c + Im_c.i dará um conjunto de Julia diferente\n",
    "\n",
    "result_j2 = np.zeros([rows, columns, 96])\n",
    "a2 = np.zeros(96)\n",
    "\n",
    "for n in range(96):\n",
    "    \n",
    "    a2[n] = (np.pi)*(n/95) \n",
    "    c2 = -1 + 0j + 0.275*np.exp(complex(0,a2[n])) #basta investigar de 0 a pi, pois o conjunto de mandelbrot é simétrico em relação ao eixo Real.\n",
    "    Re_c2 = c2.real\n",
    "    Im_c2 = c2.imag\n",
    "    \n",
    "    for row_index, Re_z in enumerate(np.linspace(-1.5, 1.5 ,num = rows)):\n",
    "        for column_index, Im_z in enumerate(np.linspace(-1.5, 1.5, num = columns)):\n",
    "            result_j2[row_index, column_index, n] = julia(Re_z, Im_z, Re_c2, Im_c2, 50)"
   ]
  },
  {
   "cell_type": "code",
   "execution_count": null,
   "metadata": {
    "ExecuteTime": {
     "end_time": "2021-06-16T17:30:12.797390Z",
     "start_time": "2021-06-16T17:29:59.603531Z"
    }
   },
   "outputs": [],
   "source": [
    "plt.figure(dpi=100, figsize=[12,72])\n",
    "x = np.linspace(-1.5,1.5)\n",
    "\n",
    "for n in range(96):\n",
    "    plt.subplot(24,4,n+1)\n",
    "    plt.imshow(result_j2[:,:,n].T, cmap = 'jet', interpolation = 'bilinear', extent = [-1.5, 1.5, -1.5, 1.5])\n",
    "    plt.plot(x, np.tan(a2[n])*x, label = str(a2[n]*180/np.pi))\n",
    "    plt.ylim(-1.5,1.5)\n",
    "    #plt.xlabel('Re')\n",
    "    #plt.ylabel('Im')\n",
    "    #plt.title('a = ' + str(np.pi*(n/11))\n",
    "    #plt.colorbar()\n",
    "    #plt.grid()\n",
    "    #plt.legend()\n",
    "    \n",
    "plt.show()"
   ]
  },
  {
   "cell_type": "code",
   "execution_count": null,
   "metadata": {},
   "outputs": [],
   "source": []
  }
 ],
 "metadata": {
  "kernelspec": {
   "display_name": "Python 3 (Spyder)",
   "language": "python3",
   "name": "python3"
  },
  "language_info": {
   "codemirror_mode": {
    "name": "ipython",
    "version": 3
   },
   "file_extension": ".py",
   "mimetype": "text/x-python",
   "name": "python",
   "nbconvert_exporter": "python",
   "pygments_lexer": "ipython3",
   "version": "3.7.11"
  },
  "toc": {
   "base_numbering": 1,
   "nav_menu": {},
   "number_sections": true,
   "sideBar": true,
   "skip_h1_title": false,
   "title_cell": "Table of Contents",
   "title_sidebar": "Contents",
   "toc_cell": false,
   "toc_position": {},
   "toc_section_display": true,
   "toc_window_display": true
  },
  "varInspector": {
   "cols": {
    "lenName": 16,
    "lenType": 16,
    "lenVar": 40
   },
   "kernels_config": {
    "python": {
     "delete_cmd_postfix": "",
     "delete_cmd_prefix": "del ",
     "library": "var_list.py",
     "varRefreshCmd": "print(var_dic_list())"
    },
    "r": {
     "delete_cmd_postfix": ") ",
     "delete_cmd_prefix": "rm(",
     "library": "var_list.r",
     "varRefreshCmd": "cat(var_dic_list()) "
    }
   },
   "types_to_exclude": [
    "module",
    "function",
    "builtin_function_or_method",
    "instance",
    "_Feature"
   ],
   "window_display": false
  }
 },
 "nbformat": 4,
 "nbformat_minor": 4
}
